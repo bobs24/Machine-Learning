{
  "cells": [
    {
      "cell_type": "markdown",
      "id": "000320c3",
      "metadata": {
        "id": "000320c3"
      },
      "source": [
        "## Data Dictionary (Metadata)\n",
        "1. CustomerID: A unique ID that identifies each customer.\n",
        "2. Gender: The customer’s gender: Male, Female\n",
        "\n",
        "3. Senior Citizen: Indicates if the customer is 65 or older: Yes, No\n",
        "\n",
        "4. Partner: Indicate if the customer has a partner: Yes, No\n",
        "\n",
        "5. Dependents: Indicates if the customer lives with any dependents: Yes, No. Dependents could be children, parents, grandparents, etc.\n",
        "\n",
        "6. Tenure Months: Indicates the total amount of months that the customer has been with the company by the end of the quarter specified above.\n",
        "\n",
        "7. Phone Service: Indicates if the customer subscribes to home phone service with the company: Yes, No\n",
        "\n",
        "8. Multiple Lines: Indicates if the customer subscribes to multiple telephone lines with the company: Yes, No\n",
        "\n",
        "9. Internet Service: Indicates if the customer subscribes to Internet service with the company: No, DSL, Fiber Optic, Cable.\n",
        "\n",
        "10. Online Security: Indicates if the customer subscribes to an additional online security service provided by the company: Yes, No\n",
        "\n",
        "11. Online Backup: Indicates if the customer subscribes to an additional online backup service provided by the company: Yes, No\n",
        "\n",
        "12. Device Protection: Indicates if the customer subscribes to an additional device protection plan for their Internet equipment provided by the company: Yes, No\n",
        "\n",
        "13. Tech Support: Indicates if the customer subscribes to an additional technical support plan from the company with reduced wait times: Yes, No\n",
        "\n",
        "14. Streaming TV: Indicates if the customer uses their Internet service to stream television programing from a third party provider: Yes, No. The company does not charge an additional fee for this service.\n",
        "\n",
        "15. Streaming Movies: Indicates if the customer uses their Internet service to stream movies from a third party provider: Yes, No. The company does not charge an additional fee for this service.\n",
        "\n",
        "16. Contract: Indicates the customer’s current contract type: Month-to-Month, One Year, Two Year.\n",
        "\n",
        "17. Paperless Billing: Indicates if the customer has chosen paperless billing: Yes, No\n",
        "\n",
        "18. Payment Method: Indicates how the customer pays their bill: Bank Withdrawal, Credit Card, Mailed Check\n",
        "\n",
        "19. Monthly Charge: Indicates the customer’s current total monthly charge for all their services from the company.\n",
        "\n",
        "20. Total Charges: Indicates the customer’s total charges, calculated to the end of the quarter specified above.\n",
        "\n",
        "21. Churn Label: Yes = the customer left the company this quarter. No = the customer remained with the company. Directly related to Churn Value.\n",
        "\n",
        "21. Churn Value: 1 = the customer left the company this quarter. 0 = the customer remained with the company. Directly related to Churn Label."
      ]
    },
    {
      "cell_type": "code",
      "execution_count": 1,
      "id": "f474f8a3",
      "metadata": {
        "id": "f474f8a3"
      },
      "outputs": [],
      "source": [
        "# load pandas untuk data wrangling\n",
        "import pandas as pd\n",
        "# load numpy untuk manipulasi vektor\n",
        "import numpy as np\n",
        "# load matplotlib untuk visualisasi data\n",
        "import matplotlib.pyplot as plt\n",
        "# load seaborn untuk visualisasi data\n",
        "import seaborn as sns\n",
        "\n",
        "# load metrics object dari sklearn\n",
        "from sklearn import metrics\n",
        "# load train-test data splitter\n",
        "from sklearn.model_selection import train_test_split\n",
        "# Import Decision Tree classifier (DT)\n",
        "from sklearn.tree import DecisionTreeClassifier\n",
        "# Import Logistic Regression classifier\n",
        "from sklearn.linear_model import LogisticRegression\n",
        "# load SVM classifier model\n",
        "from sklearn.svm import SVC\n",
        "# load KNN classifier model\n",
        "from sklearn.neighbors import KNeighborsClassifier\n",
        "\n",
        "from sklearn.preprocessing import StandardScaler\n",
        "from sklearn.model_selection import learning_curve\n",
        "\n",
        "#import for metrics\n",
        "from sklearn.metrics import precision_score, \\\n",
        "    recall_score, confusion_matrix, classification_report, \\\n",
        "    accuracy_score, f1_score, roc_auc_score\n",
        "from sklearn.metrics import confusion_matrix,ConfusionMatrixDisplay,classification_report,accuracy_score\n",
        "\n",
        "# Set the maximum number of columns and rows to display to a large number\n",
        "pd.set_option('display.max_columns', None)\n",
        "pd.set_option('display.max_rows', None)\n",
        "\n",
        "%matplotlib inline"
      ]
    },
    {
      "cell_type": "code",
      "execution_count": 3,
      "id": "8677fadb",
      "metadata": {
        "id": "8677fadb",
        "outputId": "34f529aa-56b1-41c1-a3c8-b6fcce25f758",
        "colab": {
          "base_uri": "https://localhost:8080/",
          "height": 313
        }
      },
      "outputs": [
        {
          "output_type": "execute_result",
          "data": {
            "text/plain": [
              "   customerID  gender  SeniorCitizen Partner Dependents  tenure PhoneService  \\\n",
              "0  7590-VHVEG  Female              0     Yes         No       1           No   \n",
              "1  5575-GNVDE    Male              0      No         No      34          Yes   \n",
              "2  3668-QPYBK    Male              0      No         No       2          Yes   \n",
              "3  7795-CFOCW    Male              0      No         No      45           No   \n",
              "4  9237-HQITU  Female              0      No         No       2          Yes   \n",
              "\n",
              "      MultipleLines InternetService OnlineSecurity OnlineBackup  \\\n",
              "0  No phone service             DSL             No          Yes   \n",
              "1                No             DSL            Yes           No   \n",
              "2                No             DSL            Yes          Yes   \n",
              "3  No phone service             DSL            Yes           No   \n",
              "4                No     Fiber optic             No           No   \n",
              "\n",
              "  DeviceProtection TechSupport StreamingTV StreamingMovies        Contract  \\\n",
              "0               No          No          No              No  Month-to-month   \n",
              "1              Yes          No          No              No        One year   \n",
              "2               No          No          No              No  Month-to-month   \n",
              "3              Yes         Yes          No              No        One year   \n",
              "4               No          No          No              No  Month-to-month   \n",
              "\n",
              "  PaperlessBilling              PaymentMethod  MonthlyCharges TotalCharges  \\\n",
              "0              Yes           Electronic check           29.85        29.85   \n",
              "1               No               Mailed check           56.95       1889.5   \n",
              "2              Yes               Mailed check           53.85       108.15   \n",
              "3               No  Bank transfer (automatic)           42.30      1840.75   \n",
              "4              Yes           Electronic check           70.70       151.65   \n",
              "\n",
              "   Churn  \n",
              "0      0  \n",
              "1      0  \n",
              "2      1  \n",
              "3      0  \n",
              "4      1  "
            ],
            "text/html": [
              "\n",
              "  <div id=\"df-86781d11-12c5-46bc-91f8-5b7ee75e9a15\" class=\"colab-df-container\">\n",
              "    <div>\n",
              "<style scoped>\n",
              "    .dataframe tbody tr th:only-of-type {\n",
              "        vertical-align: middle;\n",
              "    }\n",
              "\n",
              "    .dataframe tbody tr th {\n",
              "        vertical-align: top;\n",
              "    }\n",
              "\n",
              "    .dataframe thead th {\n",
              "        text-align: right;\n",
              "    }\n",
              "</style>\n",
              "<table border=\"1\" class=\"dataframe\">\n",
              "  <thead>\n",
              "    <tr style=\"text-align: right;\">\n",
              "      <th></th>\n",
              "      <th>customerID</th>\n",
              "      <th>gender</th>\n",
              "      <th>SeniorCitizen</th>\n",
              "      <th>Partner</th>\n",
              "      <th>Dependents</th>\n",
              "      <th>tenure</th>\n",
              "      <th>PhoneService</th>\n",
              "      <th>MultipleLines</th>\n",
              "      <th>InternetService</th>\n",
              "      <th>OnlineSecurity</th>\n",
              "      <th>OnlineBackup</th>\n",
              "      <th>DeviceProtection</th>\n",
              "      <th>TechSupport</th>\n",
              "      <th>StreamingTV</th>\n",
              "      <th>StreamingMovies</th>\n",
              "      <th>Contract</th>\n",
              "      <th>PaperlessBilling</th>\n",
              "      <th>PaymentMethod</th>\n",
              "      <th>MonthlyCharges</th>\n",
              "      <th>TotalCharges</th>\n",
              "      <th>Churn</th>\n",
              "    </tr>\n",
              "  </thead>\n",
              "  <tbody>\n",
              "    <tr>\n",
              "      <th>0</th>\n",
              "      <td>7590-VHVEG</td>\n",
              "      <td>Female</td>\n",
              "      <td>0</td>\n",
              "      <td>Yes</td>\n",
              "      <td>No</td>\n",
              "      <td>1</td>\n",
              "      <td>No</td>\n",
              "      <td>No phone service</td>\n",
              "      <td>DSL</td>\n",
              "      <td>No</td>\n",
              "      <td>Yes</td>\n",
              "      <td>No</td>\n",
              "      <td>No</td>\n",
              "      <td>No</td>\n",
              "      <td>No</td>\n",
              "      <td>Month-to-month</td>\n",
              "      <td>Yes</td>\n",
              "      <td>Electronic check</td>\n",
              "      <td>29.85</td>\n",
              "      <td>29.85</td>\n",
              "      <td>0</td>\n",
              "    </tr>\n",
              "    <tr>\n",
              "      <th>1</th>\n",
              "      <td>5575-GNVDE</td>\n",
              "      <td>Male</td>\n",
              "      <td>0</td>\n",
              "      <td>No</td>\n",
              "      <td>No</td>\n",
              "      <td>34</td>\n",
              "      <td>Yes</td>\n",
              "      <td>No</td>\n",
              "      <td>DSL</td>\n",
              "      <td>Yes</td>\n",
              "      <td>No</td>\n",
              "      <td>Yes</td>\n",
              "      <td>No</td>\n",
              "      <td>No</td>\n",
              "      <td>No</td>\n",
              "      <td>One year</td>\n",
              "      <td>No</td>\n",
              "      <td>Mailed check</td>\n",
              "      <td>56.95</td>\n",
              "      <td>1889.5</td>\n",
              "      <td>0</td>\n",
              "    </tr>\n",
              "    <tr>\n",
              "      <th>2</th>\n",
              "      <td>3668-QPYBK</td>\n",
              "      <td>Male</td>\n",
              "      <td>0</td>\n",
              "      <td>No</td>\n",
              "      <td>No</td>\n",
              "      <td>2</td>\n",
              "      <td>Yes</td>\n",
              "      <td>No</td>\n",
              "      <td>DSL</td>\n",
              "      <td>Yes</td>\n",
              "      <td>Yes</td>\n",
              "      <td>No</td>\n",
              "      <td>No</td>\n",
              "      <td>No</td>\n",
              "      <td>No</td>\n",
              "      <td>Month-to-month</td>\n",
              "      <td>Yes</td>\n",
              "      <td>Mailed check</td>\n",
              "      <td>53.85</td>\n",
              "      <td>108.15</td>\n",
              "      <td>1</td>\n",
              "    </tr>\n",
              "    <tr>\n",
              "      <th>3</th>\n",
              "      <td>7795-CFOCW</td>\n",
              "      <td>Male</td>\n",
              "      <td>0</td>\n",
              "      <td>No</td>\n",
              "      <td>No</td>\n",
              "      <td>45</td>\n",
              "      <td>No</td>\n",
              "      <td>No phone service</td>\n",
              "      <td>DSL</td>\n",
              "      <td>Yes</td>\n",
              "      <td>No</td>\n",
              "      <td>Yes</td>\n",
              "      <td>Yes</td>\n",
              "      <td>No</td>\n",
              "      <td>No</td>\n",
              "      <td>One year</td>\n",
              "      <td>No</td>\n",
              "      <td>Bank transfer (automatic)</td>\n",
              "      <td>42.30</td>\n",
              "      <td>1840.75</td>\n",
              "      <td>0</td>\n",
              "    </tr>\n",
              "    <tr>\n",
              "      <th>4</th>\n",
              "      <td>9237-HQITU</td>\n",
              "      <td>Female</td>\n",
              "      <td>0</td>\n",
              "      <td>No</td>\n",
              "      <td>No</td>\n",
              "      <td>2</td>\n",
              "      <td>Yes</td>\n",
              "      <td>No</td>\n",
              "      <td>Fiber optic</td>\n",
              "      <td>No</td>\n",
              "      <td>No</td>\n",
              "      <td>No</td>\n",
              "      <td>No</td>\n",
              "      <td>No</td>\n",
              "      <td>No</td>\n",
              "      <td>Month-to-month</td>\n",
              "      <td>Yes</td>\n",
              "      <td>Electronic check</td>\n",
              "      <td>70.70</td>\n",
              "      <td>151.65</td>\n",
              "      <td>1</td>\n",
              "    </tr>\n",
              "  </tbody>\n",
              "</table>\n",
              "</div>\n",
              "    <div class=\"colab-df-buttons\">\n",
              "\n",
              "  <div class=\"colab-df-container\">\n",
              "    <button class=\"colab-df-convert\" onclick=\"convertToInteractive('df-86781d11-12c5-46bc-91f8-5b7ee75e9a15')\"\n",
              "            title=\"Convert this dataframe to an interactive table.\"\n",
              "            style=\"display:none;\">\n",
              "\n",
              "  <svg xmlns=\"http://www.w3.org/2000/svg\" height=\"24px\" viewBox=\"0 -960 960 960\">\n",
              "    <path d=\"M120-120v-720h720v720H120Zm60-500h600v-160H180v160Zm220 220h160v-160H400v160Zm0 220h160v-160H400v160ZM180-400h160v-160H180v160Zm440 0h160v-160H620v160ZM180-180h160v-160H180v160Zm440 0h160v-160H620v160Z\"/>\n",
              "  </svg>\n",
              "    </button>\n",
              "\n",
              "  <style>\n",
              "    .colab-df-container {\n",
              "      display:flex;\n",
              "      gap: 12px;\n",
              "    }\n",
              "\n",
              "    .colab-df-convert {\n",
              "      background-color: #E8F0FE;\n",
              "      border: none;\n",
              "      border-radius: 50%;\n",
              "      cursor: pointer;\n",
              "      display: none;\n",
              "      fill: #1967D2;\n",
              "      height: 32px;\n",
              "      padding: 0 0 0 0;\n",
              "      width: 32px;\n",
              "    }\n",
              "\n",
              "    .colab-df-convert:hover {\n",
              "      background-color: #E2EBFA;\n",
              "      box-shadow: 0px 1px 2px rgba(60, 64, 67, 0.3), 0px 1px 3px 1px rgba(60, 64, 67, 0.15);\n",
              "      fill: #174EA6;\n",
              "    }\n",
              "\n",
              "    .colab-df-buttons div {\n",
              "      margin-bottom: 4px;\n",
              "    }\n",
              "\n",
              "    [theme=dark] .colab-df-convert {\n",
              "      background-color: #3B4455;\n",
              "      fill: #D2E3FC;\n",
              "    }\n",
              "\n",
              "    [theme=dark] .colab-df-convert:hover {\n",
              "      background-color: #434B5C;\n",
              "      box-shadow: 0px 1px 3px 1px rgba(0, 0, 0, 0.15);\n",
              "      filter: drop-shadow(0px 1px 2px rgba(0, 0, 0, 0.3));\n",
              "      fill: #FFFFFF;\n",
              "    }\n",
              "  </style>\n",
              "\n",
              "    <script>\n",
              "      const buttonEl =\n",
              "        document.querySelector('#df-86781d11-12c5-46bc-91f8-5b7ee75e9a15 button.colab-df-convert');\n",
              "      buttonEl.style.display =\n",
              "        google.colab.kernel.accessAllowed ? 'block' : 'none';\n",
              "\n",
              "      async function convertToInteractive(key) {\n",
              "        const element = document.querySelector('#df-86781d11-12c5-46bc-91f8-5b7ee75e9a15');\n",
              "        const dataTable =\n",
              "          await google.colab.kernel.invokeFunction('convertToInteractive',\n",
              "                                                    [key], {});\n",
              "        if (!dataTable) return;\n",
              "\n",
              "        const docLinkHtml = 'Like what you see? Visit the ' +\n",
              "          '<a target=\"_blank\" href=https://colab.research.google.com/notebooks/data_table.ipynb>data table notebook</a>'\n",
              "          + ' to learn more about interactive tables.';\n",
              "        element.innerHTML = '';\n",
              "        dataTable['output_type'] = 'display_data';\n",
              "        await google.colab.output.renderOutput(dataTable, element);\n",
              "        const docLink = document.createElement('div');\n",
              "        docLink.innerHTML = docLinkHtml;\n",
              "        element.appendChild(docLink);\n",
              "      }\n",
              "    </script>\n",
              "  </div>\n",
              "\n",
              "\n",
              "<div id=\"df-f24efcf6-2744-4cb8-a7e6-3b53880f34e0\">\n",
              "  <button class=\"colab-df-quickchart\" onclick=\"quickchart('df-f24efcf6-2744-4cb8-a7e6-3b53880f34e0')\"\n",
              "            title=\"Suggest charts\"\n",
              "            style=\"display:none;\">\n",
              "\n",
              "<svg xmlns=\"http://www.w3.org/2000/svg\" height=\"24px\"viewBox=\"0 0 24 24\"\n",
              "     width=\"24px\">\n",
              "    <g>\n",
              "        <path d=\"M19 3H5c-1.1 0-2 .9-2 2v14c0 1.1.9 2 2 2h14c1.1 0 2-.9 2-2V5c0-1.1-.9-2-2-2zM9 17H7v-7h2v7zm4 0h-2V7h2v10zm4 0h-2v-4h2v4z\"/>\n",
              "    </g>\n",
              "</svg>\n",
              "  </button>\n",
              "\n",
              "<style>\n",
              "  .colab-df-quickchart {\n",
              "      --bg-color: #E8F0FE;\n",
              "      --fill-color: #1967D2;\n",
              "      --hover-bg-color: #E2EBFA;\n",
              "      --hover-fill-color: #174EA6;\n",
              "      --disabled-fill-color: #AAA;\n",
              "      --disabled-bg-color: #DDD;\n",
              "  }\n",
              "\n",
              "  [theme=dark] .colab-df-quickchart {\n",
              "      --bg-color: #3B4455;\n",
              "      --fill-color: #D2E3FC;\n",
              "      --hover-bg-color: #434B5C;\n",
              "      --hover-fill-color: #FFFFFF;\n",
              "      --disabled-bg-color: #3B4455;\n",
              "      --disabled-fill-color: #666;\n",
              "  }\n",
              "\n",
              "  .colab-df-quickchart {\n",
              "    background-color: var(--bg-color);\n",
              "    border: none;\n",
              "    border-radius: 50%;\n",
              "    cursor: pointer;\n",
              "    display: none;\n",
              "    fill: var(--fill-color);\n",
              "    height: 32px;\n",
              "    padding: 0;\n",
              "    width: 32px;\n",
              "  }\n",
              "\n",
              "  .colab-df-quickchart:hover {\n",
              "    background-color: var(--hover-bg-color);\n",
              "    box-shadow: 0 1px 2px rgba(60, 64, 67, 0.3), 0 1px 3px 1px rgba(60, 64, 67, 0.15);\n",
              "    fill: var(--button-hover-fill-color);\n",
              "  }\n",
              "\n",
              "  .colab-df-quickchart-complete:disabled,\n",
              "  .colab-df-quickchart-complete:disabled:hover {\n",
              "    background-color: var(--disabled-bg-color);\n",
              "    fill: var(--disabled-fill-color);\n",
              "    box-shadow: none;\n",
              "  }\n",
              "\n",
              "  .colab-df-spinner {\n",
              "    border: 2px solid var(--fill-color);\n",
              "    border-color: transparent;\n",
              "    border-bottom-color: var(--fill-color);\n",
              "    animation:\n",
              "      spin 1s steps(1) infinite;\n",
              "  }\n",
              "\n",
              "  @keyframes spin {\n",
              "    0% {\n",
              "      border-color: transparent;\n",
              "      border-bottom-color: var(--fill-color);\n",
              "      border-left-color: var(--fill-color);\n",
              "    }\n",
              "    20% {\n",
              "      border-color: transparent;\n",
              "      border-left-color: var(--fill-color);\n",
              "      border-top-color: var(--fill-color);\n",
              "    }\n",
              "    30% {\n",
              "      border-color: transparent;\n",
              "      border-left-color: var(--fill-color);\n",
              "      border-top-color: var(--fill-color);\n",
              "      border-right-color: var(--fill-color);\n",
              "    }\n",
              "    40% {\n",
              "      border-color: transparent;\n",
              "      border-right-color: var(--fill-color);\n",
              "      border-top-color: var(--fill-color);\n",
              "    }\n",
              "    60% {\n",
              "      border-color: transparent;\n",
              "      border-right-color: var(--fill-color);\n",
              "    }\n",
              "    80% {\n",
              "      border-color: transparent;\n",
              "      border-right-color: var(--fill-color);\n",
              "      border-bottom-color: var(--fill-color);\n",
              "    }\n",
              "    90% {\n",
              "      border-color: transparent;\n",
              "      border-bottom-color: var(--fill-color);\n",
              "    }\n",
              "  }\n",
              "</style>\n",
              "\n",
              "  <script>\n",
              "    async function quickchart(key) {\n",
              "      const quickchartButtonEl =\n",
              "        document.querySelector('#' + key + ' button');\n",
              "      quickchartButtonEl.disabled = true;  // To prevent multiple clicks.\n",
              "      quickchartButtonEl.classList.add('colab-df-spinner');\n",
              "      try {\n",
              "        const charts = await google.colab.kernel.invokeFunction(\n",
              "            'suggestCharts', [key], {});\n",
              "      } catch (error) {\n",
              "        console.error('Error during call to suggestCharts:', error);\n",
              "      }\n",
              "      quickchartButtonEl.classList.remove('colab-df-spinner');\n",
              "      quickchartButtonEl.classList.add('colab-df-quickchart-complete');\n",
              "    }\n",
              "    (() => {\n",
              "      let quickchartButtonEl =\n",
              "        document.querySelector('#df-f24efcf6-2744-4cb8-a7e6-3b53880f34e0 button');\n",
              "      quickchartButtonEl.style.display =\n",
              "        google.colab.kernel.accessAllowed ? 'block' : 'none';\n",
              "    })();\n",
              "  </script>\n",
              "</div>\n",
              "    </div>\n",
              "  </div>\n"
            ]
          },
          "metadata": {},
          "execution_count": 3
        }
      ],
      "source": [
        "# load dataset ke raw_data\n",
        "raw_data = pd.read_csv('Telco-Customer-Churn.csv')\n",
        "raw_data['Churn'].replace(['Yes','No'],[1,0],inplace=True)\n",
        "raw_data.head()"
      ]
    },
    {
      "cell_type": "code",
      "source": [
        "raw_data['Churn'].value_counts(normalize=True) #im-balance data"
      ],
      "metadata": {
        "colab": {
          "base_uri": "https://localhost:8080/"
        },
        "id": "K8nsl2s9eS9X",
        "outputId": "e5518bf1-de78-43ed-b564-cecd1163f2b8"
      },
      "id": "K8nsl2s9eS9X",
      "execution_count": 4,
      "outputs": [
        {
          "output_type": "execute_result",
          "data": {
            "text/plain": [
              "0    0.73463\n",
              "1    0.26537\n",
              "Name: Churn, dtype: float64"
            ]
          },
          "metadata": {},
          "execution_count": 4
        }
      ]
    },
    {
      "cell_type": "code",
      "execution_count": 5,
      "id": "5c81a86e",
      "metadata": {
        "id": "5c81a86e"
      },
      "outputs": [],
      "source": [
        "#gunakan code ini sebelum EDA\n",
        "raw_data['Partner'].replace(['Yes','No'],[1,0],inplace=True)\n",
        "raw_data['Dependents'].replace(['Yes','No'],[1,0],inplace=True)\n",
        "raw_data['PhoneService'].replace(['Yes','No'],[1,0],inplace=True)\n",
        "raw_data['MultipleLines'].replace(['No phone service','No', 'Yes'],[0,0,1],inplace=True)\n",
        "raw_data['OnlineSecurity'].replace(['No','Yes','No internet service'],[0,1,0],inplace=True)\n",
        "raw_data['OnlineBackup'].replace(['No','Yes','No internet service'],[0,1,0],inplace=True)\n",
        "raw_data['DeviceProtection'].replace(['No','Yes','No internet service'],[0,1,0],inplace=True)\n",
        "raw_data['TechSupport'].replace(['No','Yes','No internet service'],[0,1,0],inplace=True)\n",
        "raw_data['StreamingTV'].replace(['No','Yes','No internet service'],[0,1,0],inplace=True)\n",
        "raw_data['StreamingMovies'].replace(['No','Yes','No internet service'],[0,1,0],inplace=True)\n",
        "raw_data['PaperlessBilling'].replace(['Yes','No'],[1,0],inplace=True)"
      ]
    },
    {
      "cell_type": "code",
      "execution_count": 6,
      "id": "0b7b0ae3",
      "metadata": {
        "id": "0b7b0ae3"
      },
      "outputs": [],
      "source": [
        "#mengubah tipe data pada kolom TotalCharges\n",
        "raw_data['TotalCharges'] = pd.to_numeric(raw_data['TotalCharges'], errors = 'coerce')"
      ]
    },
    {
      "cell_type": "code",
      "source": [
        "raw_data.info()"
      ],
      "metadata": {
        "colab": {
          "base_uri": "https://localhost:8080/"
        },
        "id": "-rCE9HfEB4LH",
        "outputId": "0f1454ae-6051-4c5e-e325-60bb5e05ebe2"
      },
      "id": "-rCE9HfEB4LH",
      "execution_count": 7,
      "outputs": [
        {
          "output_type": "stream",
          "name": "stdout",
          "text": [
            "<class 'pandas.core.frame.DataFrame'>\n",
            "RangeIndex: 7043 entries, 0 to 7042\n",
            "Data columns (total 21 columns):\n",
            " #   Column            Non-Null Count  Dtype  \n",
            "---  ------            --------------  -----  \n",
            " 0   customerID        7043 non-null   object \n",
            " 1   gender            7043 non-null   object \n",
            " 2   SeniorCitizen     7043 non-null   int64  \n",
            " 3   Partner           7043 non-null   int64  \n",
            " 4   Dependents        7043 non-null   int64  \n",
            " 5   tenure            7043 non-null   int64  \n",
            " 6   PhoneService      7043 non-null   int64  \n",
            " 7   MultipleLines     7043 non-null   int64  \n",
            " 8   InternetService   7043 non-null   object \n",
            " 9   OnlineSecurity    7043 non-null   int64  \n",
            " 10  OnlineBackup      7043 non-null   int64  \n",
            " 11  DeviceProtection  7043 non-null   int64  \n",
            " 12  TechSupport       7043 non-null   int64  \n",
            " 13  StreamingTV       7043 non-null   int64  \n",
            " 14  StreamingMovies   7043 non-null   int64  \n",
            " 15  Contract          7043 non-null   object \n",
            " 16  PaperlessBilling  7043 non-null   int64  \n",
            " 17  PaymentMethod     7043 non-null   object \n",
            " 18  MonthlyCharges    7043 non-null   float64\n",
            " 19  TotalCharges      7032 non-null   float64\n",
            " 20  Churn             7043 non-null   int64  \n",
            "dtypes: float64(2), int64(14), object(5)\n",
            "memory usage: 1.1+ MB\n"
          ]
        }
      ]
    },
    {
      "cell_type": "markdown",
      "source": [
        "### <b> Categorical Data <b>"
      ],
      "metadata": {
        "id": "92lmztSdBRZP"
      },
      "id": "92lmztSdBRZP"
    },
    {
      "cell_type": "code",
      "execution_count": 8,
      "id": "51235932",
      "metadata": {
        "id": "51235932"
      },
      "outputs": [],
      "source": [
        "def proportional_aggregation(df, y, x):\n",
        "    temp_df = df.groupby([y,x], as_index = False).size()\n",
        "    temp_df['proportional'] = temp_df['size'] / temp_df.groupby(y)['size'].transform('sum')\n",
        "    return temp_df"
      ]
    },
    {
      "cell_type": "code",
      "execution_count": 9,
      "id": "52a1889f",
      "metadata": {
        "id": "52a1889f"
      },
      "outputs": [],
      "source": [
        "categorical_table = [\"gender\", \"OnlineBackup\", \"DeviceProtection\", \"StreamingTV\", \"StreamingMovies\", \"Contract\",\n",
        "                     \"TechSupport\", \"PaperlessBilling\", \"PaymentMethod\", \"PhoneService\", \"InternetService\"]"
      ]
    },
    {
      "cell_type": "code",
      "execution_count": 10,
      "id": "c59ad60f",
      "metadata": {
        "id": "c59ad60f",
        "colab": {
          "base_uri": "https://localhost:8080/"
        },
        "outputId": "91ef8ea2-8390-4a30-e91f-e4fae2ea9339"
      },
      "outputs": [
        {
          "output_type": "stream",
          "name": "stdout",
          "text": [
            "Below is table gender\n",
            "   gender  Churn  size  proportional\n",
            "0  Female      0  2549      0.730791\n",
            "1  Female      1   939      0.269209\n",
            "2    Male      0  2625      0.738397\n",
            "3    Male      1   930      0.261603\n",
            "--------------------------------------------\n",
            " \n",
            "Below is table OnlineBackup\n",
            "   OnlineBackup  Churn  size  proportional\n",
            "0             0      0  3268      0.708279\n",
            "1             0      1  1346      0.291721\n",
            "2             1      0  1906      0.784685\n",
            "3             1      1   523      0.215315\n",
            "--------------------------------------------\n",
            " \n",
            "Below is table DeviceProtection\n",
            "   DeviceProtection  Churn  size  proportional\n",
            "0                 0      0  3297      0.713482\n",
            "1                 0      1  1324      0.286518\n",
            "2                 1      0  1877      0.774979\n",
            "3                 1      1   545      0.225021\n",
            "--------------------------------------------\n",
            " \n",
            "Below is table StreamingTV\n",
            "   StreamingTV  Churn  size  proportional\n",
            "0            0      0  3281      0.756688\n",
            "1            0      1  1055      0.243312\n",
            "2            1      0  1893      0.699298\n",
            "3            1      1   814      0.300702\n",
            "--------------------------------------------\n",
            " \n",
            "Below is table StreamingMovies\n",
            "   StreamingMovies  Churn  size  proportional\n",
            "0                0      0  3260      0.756205\n",
            "1                0      1  1051      0.243795\n",
            "2                1      0  1914      0.700586\n",
            "3                1      1   818      0.299414\n",
            "--------------------------------------------\n",
            " \n",
            "Below is table Contract\n",
            "         Contract  Churn  size  proportional\n",
            "0  Month-to-month      0  2220      0.572903\n",
            "1  Month-to-month      1  1655      0.427097\n",
            "2        One year      0  1307      0.887305\n",
            "3        One year      1   166      0.112695\n",
            "4        Two year      0  1647      0.971681\n",
            "5        Two year      1    48      0.028319\n",
            "--------------------------------------------\n",
            " \n",
            "Below is table TechSupport\n",
            "   TechSupport  Churn  size  proportional\n",
            "0            0      0  3440      0.688138\n",
            "1            0      1  1559      0.311862\n",
            "2            1      0  1734      0.848337\n",
            "3            1      1   310      0.151663\n",
            "--------------------------------------------\n",
            " \n",
            "Below is table PaperlessBilling\n",
            "   PaperlessBilling  Churn  size  proportional\n",
            "0                 0      0  2403      0.836699\n",
            "1                 0      1   469      0.163301\n",
            "2                 1      0  2771      0.664349\n",
            "3                 1      1  1400      0.335651\n",
            "--------------------------------------------\n",
            " \n",
            "Below is table PaymentMethod\n",
            "               PaymentMethod  Churn  size  proportional\n",
            "0  Bank transfer (automatic)      0  1286      0.832902\n",
            "1  Bank transfer (automatic)      1   258      0.167098\n",
            "2    Credit card (automatic)      0  1290      0.847569\n",
            "3    Credit card (automatic)      1   232      0.152431\n",
            "4           Electronic check      0  1294      0.547146\n",
            "5           Electronic check      1  1071      0.452854\n",
            "6               Mailed check      0  1304      0.808933\n",
            "7               Mailed check      1   308      0.191067\n",
            "--------------------------------------------\n",
            " \n",
            "Below is table PhoneService\n",
            "   PhoneService  Churn  size  proportional\n",
            "0             0      0   512      0.750733\n",
            "1             0      1   170      0.249267\n",
            "2             1      0  4662      0.732904\n",
            "3             1      1  1699      0.267096\n",
            "--------------------------------------------\n",
            " \n",
            "Below is table InternetService\n",
            "  InternetService  Churn  size  proportional\n",
            "0             DSL      0  1962      0.810409\n",
            "1             DSL      1   459      0.189591\n",
            "2     Fiber optic      0  1799      0.581072\n",
            "3     Fiber optic      1  1297      0.418928\n",
            "4              No      0  1413      0.925950\n",
            "5              No      1   113      0.074050\n",
            "--------------------------------------------\n",
            " \n"
          ]
        }
      ],
      "source": [
        "for table in categorical_table:\n",
        "  print(f\"Below is table {table}\")\n",
        "  print(proportional_aggregation(raw_data, table, \"Churn\"))\n",
        "  print(\"--------------------------------------------\")\n",
        "  print(\" \")"
      ]
    },
    {
      "cell_type": "code",
      "source": [
        "def barplot_churn(obj_col):\n",
        "  g = sns.FacetGrid(\n",
        "      data = proportional_aggregation(raw_data, obj_col, \"Churn\"), #pilih kolom yang ingin dihitung dan disimpan didalam variabel data\n",
        "      col = obj_col, #Pilih kolom yang ingin dianalisa\n",
        "      aspect = 2)\n",
        "      #Nilai 2 mengindikasikan bahwa subplot akan memiliki lebar yang dua kali lebih besar dari tingginya.\n",
        "  g.map(sns.barplot, \"Churn\", \"proportional\",order = [0,1])"
      ],
      "metadata": {
        "id": "CgWEAFXKDA9j"
      },
      "id": "CgWEAFXKDA9j",
      "execution_count": 11,
      "outputs": []
    },
    {
      "cell_type": "code",
      "source": [
        "for table in categorical_table:\n",
        "  barplot_churn(table)"
      ],
      "metadata": {
        "colab": {
          "base_uri": "https://localhost:8080/",
          "height": 1000
        },
        "id": "clYY0A9ED8qN",
        "outputId": "6eaf9490-b1d0-49aa-cdfc-33adf4acebb7"
      },
      "id": "clYY0A9ED8qN",
      "execution_count": 12,
      "outputs": [
        {
          "output_type": "display_data",
          "data": {
            "text/plain": [
              "<Figure size 1200x300 with 2 Axes>"
            ],
            "image/png": "[encoded data removed]"
          },
          "metadata": {}
        },
        {
          "output_type": "display_data",
          "data": {
            "text/plain": [
              "<Figure size 1200x300 with 2 Axes>"
            ],
            "image/png": "[encoded data removed]"
          },
          "metadata": {}
        },
        {
          "output_type": "display_data",
          "data": {
            "text/plain": [
              "<Figure size 1200x300 with 2 Axes>"
            ],
            "image/png": "[encoded data removed]"
          },
          "metadata": {}
        },
        {
          "output_type": "display_data",
          "data": {
            "text/plain": [
              "<Figure size 1200x300 with 2 Axes>"
            ],
            "image/png": "[encoded data removed]"
          },
          "metadata": {}
        },
        {
          "output_type": "display_data",
          "data": {
            "text/plain": [
              "<Figure size 1200x300 with 2 Axes>"
            ],
            "image/png": "[encoded data removed]"
          },
          "metadata": {}
        },
        {
          "output_type": "display_data",
          "data": {
            "text/plain": [
              "<Figure size 1800x300 with 3 Axes>"
            ],
            "image/png": "[encoded data removed]"
          },
          "metadata": {}
        },
        {
          "output_type": "display_data",
          "data": {
            "text/plain": [
              "<Figure size 1200x300 with 2 Axes>"
            ],
            "image/png": "[encoded data removed]"
          },
          "metadata": {}
        },
        {
          "output_type": "display_data",
          "data": {
            "text/plain": [
              "<Figure size 1200x300 with 2 Axes>"
            ],
            "image/png": "[encoded data removed]"
          },
          "metadata": {}
        },
        {
          "output_type": "display_data",
          "data": {
            "text/plain": [
              "<Figure size 2400x300 with 4 Axes>"
            ],
            "image/png": "[encoded data removed]"
          },
          "metadata": {}
        },
        {
          "output_type": "display_data",
          "data": {
            "text/plain": [
              "<Figure size 1200x300 with 2 Axes>"
            ],
            "image/png": "[encoded data removed]"
          },
          "metadata": {}
        },
        {
          "output_type": "display_data",
          "data": {
            "text/plain": [
              "<Figure size 1800x300 with 3 Axes>"
            ],
            "image/png": "[encoded data removed]"
          },
          "metadata": {}
        }
      ]
    },
    {
      "cell_type": "markdown",
      "source": [
        "1. Gender:\n",
        "\n",
        "  The majority of customers are male, comprising 73.8% of non-churners and 26.2% of churners.\n",
        "  Females account for 73.1% of non-churners and 26.9% of churners.\n",
        "\n",
        "2. OnlineBackup:\n",
        "\n",
        "  Customers without online backup have a higher churn rate (29.17%) compared to those with online backup (21.53%).\n",
        "  The majority (78.47%) of non-churners have online backup, indicating its potential impact on customer retention.\n",
        "\n",
        "3. DeviceProtection:\n",
        "\n",
        "  Similar to online backup, customers without device protection experience a higher churn rate (28.65%) compared to those with device protection (22.50%).\n",
        "  The majority (77.50%) of non-churners have device protection.\n",
        "\n",
        "4. StreamingTV:\n",
        "\n",
        "  Customers without streaming TV have a higher churn rate (24.33%) compared to those with streaming TV (20.37%).\n",
        "  The majority (75.67%) of non-churners have streaming TV.\n",
        "\n",
        "5. StreamingMovies:\n",
        "\n",
        "  Similar to streaming TV, customers without streaming movies have a higher churn rate (24.38%) compared to those with streaming movies (23.94%).\n",
        "  The majority (75.62%) of non-churners have streaming movies.\n",
        "\n",
        "6. Contract:\n",
        "\n",
        "  Customers with month-to-month contracts have a higher churn rate (42.71%) compared to one-year (11.27%) and two-year (2.83%) contracts.\n",
        "  The majority of non-churners have two-year contracts (97.17%).\n",
        "\n",
        "7. TechSupport:\n",
        "\n",
        "  Customers without tech support experience a higher churn rate (31.19%) compared to those with tech support (15.17%).\n",
        "  The majority (84.83%) of non-churners have tech support.\n",
        "\n",
        "8. PaperlessBilling:\n",
        "\n",
        "  Customers with paperless billing have a higher churn rate (33.57%) compared to those without paperless billing (16.33%).\n",
        "  The majority (83.67%) of non-churners have paperless billing.\n",
        "\n",
        "9. PaymentMethod:\n",
        "\n",
        "  Customers using electronic check as a payment method have a higher churn rate (45.29%) compared to other methods.\n",
        "  Bank transfer and credit card (automatic) show lower churn rates.\n",
        "\n",
        "10. PhoneService:\n",
        "\n",
        "  Both customers with and without phone service show relatively balanced churn rates.\n",
        "  The majority (73.29%) of non-churners have phone service.\n",
        "\n",
        "11. InternetService:\n",
        "\n",
        "  Customers with fiber optic internet service have a higher churn rate (41.89%) compared to DSL (18.96%) and no internet service (7.41%).\n",
        "  The majority of non-churners (92.60%) have no internet service"
      ],
      "metadata": {
        "id": "iJK7SIMgFfCF"
      },
      "id": "iJK7SIMgFfCF"
    },
    {
      "cell_type": "markdown",
      "source": [
        "### <b> Numerical Data <b>"
      ],
      "metadata": {
        "id": "j2vYUya7GYdt"
      },
      "id": "j2vYUya7GYdt"
    },
    {
      "cell_type": "code",
      "source": [
        "numerical_table = [\"MonthlyCharges\", \"tenure\"]"
      ],
      "metadata": {
        "id": "zKjm7Y6jGbPp"
      },
      "id": "zKjm7Y6jGbPp",
      "execution_count": 13,
      "outputs": []
    },
    {
      "cell_type": "code",
      "source": [
        "# Set up subplots\n",
        "fig, axes = plt.subplots(len(numerical_table), 1, figsize=(8, len(numerical_table) * 6))\n",
        "\n",
        "# Loop through each numerical feature\n",
        "for i, table in enumerate(numerical_table):\n",
        "    # Create a boxplot on the current subplot\n",
        "    sns.boxplot(x=\"Churn\", y=table, data=raw_data, ax=axes[i])\n",
        "\n",
        "    # Set subplot title\n",
        "    axes[i].set_title(f'Boxplot for {table} by Churn')\n",
        "\n",
        "# Adjust layout\n",
        "plt.tight_layout()\n",
        "plt.show()"
      ],
      "metadata": {
        "colab": {
          "base_uri": "https://localhost:8080/",
          "height": 1000
        },
        "id": "ghsp9EoZGp1p",
        "outputId": "333786a5-f5c3-400b-cf09-0215c2008db1"
      },
      "id": "ghsp9EoZGp1p",
      "execution_count": 14,
      "outputs": [
        {
          "output_type": "display_data",
          "data": {
            "text/plain": [
              "<Figure size 800x1200 with 2 Axes>"
            ],
            "image/png": "[encoded data removed]"
          },
          "metadata": {}
        }
      ]
    },
    {
      "cell_type": "markdown",
      "source": [
        "Based on the observed boxplots:\n",
        "\n",
        "1. Elevated monthly charges are associated with a higher churn rate, whereas lower monthly charges are linked to a lower likelihood of churn.\n",
        "2. In contrast to the impact of monthly charges, customers with extended tenure tend to exhibit a lower churn rate, while those with shorter tenure are more prone to churn."
      ],
      "metadata": {
        "id": "TP_yH3JHHZrJ"
      },
      "id": "TP_yH3JHHZrJ"
    },
    {
      "cell_type": "markdown",
      "source": [
        "## <b> Feature Engineering <b>"
      ],
      "metadata": {
        "id": "kxsU214uOw1H"
      },
      "id": "kxsU214uOw1H"
    },
    {
      "cell_type": "code",
      "source": [
        "raw_data.head(10)"
      ],
      "metadata": {
        "colab": {
          "base_uri": "https://localhost:8080/",
          "height": 556
        },
        "id": "eWTnonizYCM1",
        "outputId": "2417a932-cd35-4656-df01-ba6e62406e01"
      },
      "id": "eWTnonizYCM1",
      "execution_count": 15,
      "outputs": [
        {
          "output_type": "execute_result",
          "data": {
            "text/plain": [
              "   customerID  gender  SeniorCitizen  Partner  Dependents  tenure  \\\n",
              "0  7590-VHVEG  Female              0        1           0       1   \n",
              "1  5575-GNVDE    Male              0        0           0      34   \n",
              "2  3668-QPYBK    Male              0        0           0       2   \n",
              "3  7795-CFOCW    Male              0        0           0      45   \n",
              "4  9237-HQITU  Female              0        0           0       2   \n",
              "5  9305-CDSKC  Female              0        0           0       8   \n",
              "6  1452-KIOVK    Male              0        0           1      22   \n",
              "7  6713-OKOMC  Female              0        0           0      10   \n",
              "8  7892-POOKP  Female              0        1           0      28   \n",
              "9  6388-TABGU    Male              0        0           1      62   \n",
              "\n",
              "   PhoneService  MultipleLines InternetService  OnlineSecurity  OnlineBackup  \\\n",
              "0             0              0             DSL               0             1   \n",
              "1             1              0             DSL               1             0   \n",
              "2             1              0             DSL               1             1   \n",
              "3             0              0             DSL               1             0   \n",
              "4             1              0     Fiber optic               0             0   \n",
              "5             1              1     Fiber optic               0             0   \n",
              "6             1              1     Fiber optic               0             1   \n",
              "7             0              0             DSL               1             0   \n",
              "8             1              1     Fiber optic               0             0   \n",
              "9             1              0             DSL               1             1   \n",
              "\n",
              "   DeviceProtection  TechSupport  StreamingTV  StreamingMovies  \\\n",
              "0                 0            0            0                0   \n",
              "1                 1            0            0                0   \n",
              "2                 0            0            0                0   \n",
              "3                 1            1            0                0   \n",
              "4                 0            0            0                0   \n",
              "5                 1            0            1                1   \n",
              "6                 0            0            1                0   \n",
              "7                 0            0            0                0   \n",
              "8                 1            1            1                1   \n",
              "9                 0            0            0                0   \n",
              "\n",
              "         Contract  PaperlessBilling              PaymentMethod  \\\n",
              "0  Month-to-month                 1           Electronic check   \n",
              "1        One year                 0               Mailed check   \n",
              "2  Month-to-month                 1               Mailed check   \n",
              "3        One year                 0  Bank transfer (automatic)   \n",
              "4  Month-to-month                 1           Electronic check   \n",
              "5  Month-to-month                 1           Electronic check   \n",
              "6  Month-to-month                 1    Credit card (automatic)   \n",
              "7  Month-to-month                 0               Mailed check   \n",
              "8  Month-to-month                 1           Electronic check   \n",
              "9        One year                 0  Bank transfer (automatic)   \n",
              "\n",
              "   MonthlyCharges  TotalCharges  Churn  \n",
              "0           29.85         29.85      0  \n",
              "1           56.95       1889.50      0  \n",
              "2           53.85        108.15      1  \n",
              "3           42.30       1840.75      0  \n",
              "4           70.70        151.65      1  \n",
              "5           99.65        820.50      1  \n",
              "6           89.10       1949.40      0  \n",
              "7           29.75        301.90      0  \n",
              "8          104.80       3046.05      1  \n",
              "9           56.15       3487.95      0  "
            ],
            "text/html": [
              "\n",
              "  <div id=\"df-098ac2ee-7f2b-4642-9a97-27874db8e8ce\" class=\"colab-df-container\">\n",
              "    <div>\n",
              "<style scoped>\n",
              "    .dataframe tbody tr th:only-of-type {\n",
              "        vertical-align: middle;\n",
              "    }\n",
              "\n",
              "    .dataframe tbody tr th {\n",
              "        vertical-align: top;\n",
              "    }\n",
              "\n",
              "    .dataframe thead th {\n",
              "        text-align: right;\n",
              "    }\n",
              "</style>\n",
              "<table border=\"1\" class=\"dataframe\">\n",
              "  <thead>\n",
              "    <tr style=\"text-align: right;\">\n",
              "      <th></th>\n",
              "      <th>customerID</th>\n",
              "      <th>gender</th>\n",
              "      <th>SeniorCitizen</th>\n",
              "      <th>Partner</th>\n",
              "      <th>Dependents</th>\n",
              "      <th>tenure</th>\n",
              "      <th>PhoneService</th>\n",
              "      <th>MultipleLines</th>\n",
              "      <th>InternetService</th>\n",
              "      <th>OnlineSecurity</th>\n",
              "      <th>OnlineBackup</th>\n",
              "      <th>DeviceProtection</th>\n",
              "      <th>TechSupport</th>\n",
              "      <th>StreamingTV</th>\n",
              "      <th>StreamingMovies</th>\n",
              "      <th>Contract</th>\n",
              "      <th>PaperlessBilling</th>\n",
              "      <th>PaymentMethod</th>\n",
              "      <th>MonthlyCharges</th>\n",
              "      <th>TotalCharges</th>\n",
              "      <th>Churn</th>\n",
              "    </tr>\n",
              "  </thead>\n",
              "  <tbody>\n",
              "    <tr>\n",
              "      <th>0</th>\n",
              "      <td>7590-VHVEG</td>\n",
              "      <td>Female</td>\n",
              "      <td>0</td>\n",
              "      <td>1</td>\n",
              "      <td>0</td>\n",
              "      <td>1</td>\n",
              "      <td>0</td>\n",
              "      <td>0</td>\n",
              "      <td>DSL</td>\n",
              "      <td>0</td>\n",
              "      <td>1</td>\n",
              "      <td>0</td>\n",
              "      <td>0</td>\n",
              "      <td>0</td>\n",
              "      <td>0</td>\n",
              "      <td>Month-to-month</td>\n",
              "      <td>1</td>\n",
              "      <td>Electronic check</td>\n",
              "      <td>29.85</td>\n",
              "      <td>29.85</td>\n",
              "      <td>0</td>\n",
              "    </tr>\n",
              "    <tr>\n",
              "      <th>1</th>\n",
              "      <td>5575-GNVDE</td>\n",
              "      <td>Male</td>\n",
              "      <td>0</td>\n",
              "      <td>0</td>\n",
              "      <td>0</td>\n",
              "      <td>34</td>\n",
              "      <td>1</td>\n",
              "      <td>0</td>\n",
              "      <td>DSL</td>\n",
              "      <td>1</td>\n",
              "      <td>0</td>\n",
              "      <td>1</td>\n",
              "      <td>0</td>\n",
              "      <td>0</td>\n",
              "      <td>0</td>\n",
              "      <td>One year</td>\n",
              "      <td>0</td>\n",
              "      <td>Mailed check</td>\n",
              "      <td>56.95</td>\n",
              "      <td>1889.50</td>\n",
              "      <td>0</td>\n",
              "    </tr>\n",
              "    <tr>\n",
              "      <th>2</th>\n",
              "      <td>3668-QPYBK</td>\n",
              "      <td>Male</td>\n",
              "      <td>0</td>\n",
              "      <td>0</td>\n",
              "      <td>0</td>\n",
              "      <td>2</td>\n",
              "      <td>1</td>\n",
              "      <td>0</td>\n",
              "      <td>DSL</td>\n",
              "      <td>1</td>\n",
              "      <td>1</td>\n",
              "      <td>0</td>\n",
              "      <td>0</td>\n",
              "      <td>0</td>\n",
              "      <td>0</td>\n",
              "      <td>Month-to-month</td>\n",
              "      <td>1</td>\n",
              "      <td>Mailed check</td>\n",
              "      <td>53.85</td>\n",
              "      <td>108.15</td>\n",
              "      <td>1</td>\n",
              "    </tr>\n",
              "    <tr>\n",
              "      <th>3</th>\n",
              "      <td>7795-CFOCW</td>\n",
              "      <td>Male</td>\n",
              "      <td>0</td>\n",
              "      <td>0</td>\n",
              "      <td>0</td>\n",
              "      <td>45</td>\n",
              "      <td>0</td>\n",
              "      <td>0</td>\n",
              "      <td>DSL</td>\n",
              "      <td>1</td>\n",
              "      <td>0</td>\n",
              "      <td>1</td>\n",
              "      <td>1</td>\n",
              "      <td>0</td>\n",
              "      <td>0</td>\n",
              "      <td>One year</td>\n",
              "      <td>0</td>\n",
              "      <td>Bank transfer (automatic)</td>\n",
              "      <td>42.30</td>\n",
              "      <td>1840.75</td>\n",
              "      <td>0</td>\n",
              "    </tr>\n",
              "    <tr>\n",
              "      <th>4</th>\n",
              "      <td>9237-HQITU</td>\n",
              "      <td>Female</td>\n",
              "      <td>0</td>\n",
              "      <td>0</td>\n",
              "      <td>0</td>\n",
              "      <td>2</td>\n",
              "      <td>1</td>\n",
              "      <td>0</td>\n",
              "      <td>Fiber optic</td>\n",
              "      <td>0</td>\n",
              "      <td>0</td>\n",
              "      <td>0</td>\n",
              "      <td>0</td>\n",
              "      <td>0</td>\n",
              "      <td>0</td>\n",
              "      <td>Month-to-month</td>\n",
              "      <td>1</td>\n",
              "      <td>Electronic check</td>\n",
              "      <td>70.70</td>\n",
              "      <td>151.65</td>\n",
              "      <td>1</td>\n",
              "    </tr>\n",
              "    <tr>\n",
              "      <th>5</th>\n",
              "      <td>9305-CDSKC</td>\n",
              "      <td>Female</td>\n",
              "      <td>0</td>\n",
              "      <td>0</td>\n",
              "      <td>0</td>\n",
              "      <td>8</td>\n",
              "      <td>1</td>\n",
              "      <td>1</td>\n",
              "      <td>Fiber optic</td>\n",
              "      <td>0</td>\n",
              "      <td>0</td>\n",
              "      <td>1</td>\n",
              "      <td>0</td>\n",
              "      <td>1</td>\n",
              "      <td>1</td>\n",
              "      <td>Month-to-month</td>\n",
              "      <td>1</td>\n",
              "      <td>Electronic check</td>\n",
              "      <td>99.65</td>\n",
              "      <td>820.50</td>\n",
              "      <td>1</td>\n",
              "    </tr>\n",
              "    <tr>\n",
              "      <th>6</th>\n",
              "      <td>1452-KIOVK</td>\n",
              "      <td>Male</td>\n",
              "      <td>0</td>\n",
              "      <td>0</td>\n",
              "      <td>1</td>\n",
              "      <td>22</td>\n",
              "      <td>1</td>\n",
              "      <td>1</td>\n",
              "      <td>Fiber optic</td>\n",
              "      <td>0</td>\n",
              "      <td>1</td>\n",
              "      <td>0</td>\n",
              "      <td>0</td>\n",
              "      <td>1</td>\n",
              "      <td>0</td>\n",
              "      <td>Month-to-month</td>\n",
              "      <td>1</td>\n",
              "      <td>Credit card (automatic)</td>\n",
              "      <td>89.10</td>\n",
              "      <td>1949.40</td>\n",
              "      <td>0</td>\n",
              "    </tr>\n",
              "    <tr>\n",
              "      <th>7</th>\n",
              "      <td>6713-OKOMC</td>\n",
              "      <td>Female</td>\n",
              "      <td>0</td>\n",
              "      <td>0</td>\n",
              "      <td>0</td>\n",
              "      <td>10</td>\n",
              "      <td>0</td>\n",
              "      <td>0</td>\n",
              "      <td>DSL</td>\n",
              "      <td>1</td>\n",
              "      <td>0</td>\n",
              "      <td>0</td>\n",
              "      <td>0</td>\n",
              "      <td>0</td>\n",
              "      <td>0</td>\n",
              "      <td>Month-to-month</td>\n",
              "      <td>0</td>\n",
              "      <td>Mailed check</td>\n",
              "      <td>29.75</td>\n",
              "      <td>301.90</td>\n",
              "      <td>0</td>\n",
              "    </tr>\n",
              "    <tr>\n",
              "      <th>8</th>\n",
              "      <td>7892-POOKP</td>\n",
              "      <td>Female</td>\n",
              "      <td>0</td>\n",
              "      <td>1</td>\n",
              "      <td>0</td>\n",
              "      <td>28</td>\n",
              "      <td>1</td>\n",
              "      <td>1</td>\n",
              "      <td>Fiber optic</td>\n",
              "      <td>0</td>\n",
              "      <td>0</td>\n",
              "      <td>1</td>\n",
              "      <td>1</td>\n",
              "      <td>1</td>\n",
              "      <td>1</td>\n",
              "      <td>Month-to-month</td>\n",
              "      <td>1</td>\n",
              "      <td>Electronic check</td>\n",
              "      <td>104.80</td>\n",
              "      <td>3046.05</td>\n",
              "      <td>1</td>\n",
              "    </tr>\n",
              "    <tr>\n",
              "      <th>9</th>\n",
              "      <td>6388-TABGU</td>\n",
              "      <td>Male</td>\n",
              "      <td>0</td>\n",
              "      <td>0</td>\n",
              "      <td>1</td>\n",
              "      <td>62</td>\n",
              "      <td>1</td>\n",
              "      <td>0</td>\n",
              "      <td>DSL</td>\n",
              "      <td>1</td>\n",
              "      <td>1</td>\n",
              "      <td>0</td>\n",
              "      <td>0</td>\n",
              "      <td>0</td>\n",
              "      <td>0</td>\n",
              "      <td>One year</td>\n",
              "      <td>0</td>\n",
              "      <td>Bank transfer (automatic)</td>\n",
              "      <td>56.15</td>\n",
              "      <td>3487.95</td>\n",
              "      <td>0</td>\n",
              "    </tr>\n",
              "  </tbody>\n",
              "</table>\n",
              "</div>\n",
              "    <div class=\"colab-df-buttons\">\n",
              "\n",
              "  <div class=\"colab-df-container\">\n",
              "    <button class=\"colab-df-convert\" onclick=\"convertToInteractive('df-098ac2ee-7f2b-4642-9a97-27874db8e8ce')\"\n",
              "            title=\"Convert this dataframe to an interactive table.\"\n",
              "            style=\"display:none;\">\n",
              "\n",
              "  <svg xmlns=\"http://www.w3.org/2000/svg\" height=\"24px\" viewBox=\"0 -960 960 960\">\n",
              "    <path d=\"M120-120v-720h720v720H120Zm60-500h600v-160H180v160Zm220 220h160v-160H400v160Zm0 220h160v-160H400v160ZM180-400h160v-160H180v160Zm440 0h160v-160H620v160ZM180-180h160v-160H180v160Zm440 0h160v-160H620v160Z\"/>\n",
              "  </svg>\n",
              "    </button>\n",
              "\n",
              "  <style>\n",
              "    .colab-df-container {\n",
              "      display:flex;\n",
              "      gap: 12px;\n",
              "    }\n",
              "\n",
              "    .colab-df-convert {\n",
              "      background-color: #E8F0FE;\n",
              "      border: none;\n",
              "      border-radius: 50%;\n",
              "      cursor: pointer;\n",
              "      display: none;\n",
              "      fill: #1967D2;\n",
              "      height: 32px;\n",
              "      padding: 0 0 0 0;\n",
              "      width: 32px;\n",
              "    }\n",
              "\n",
              "    .colab-df-convert:hover {\n",
              "      background-color: #E2EBFA;\n",
              "      box-shadow: 0px 1px 2px rgba(60, 64, 67, 0.3), 0px 1px 3px 1px rgba(60, 64, 67, 0.15);\n",
              "      fill: #174EA6;\n",
              "    }\n",
              "\n",
              "    .colab-df-buttons div {\n",
              "      margin-bottom: 4px;\n",
              "    }\n",
              "\n",
              "    [theme=dark] .colab-df-convert {\n",
              "      background-color: #3B4455;\n",
              "      fill: #D2E3FC;\n",
              "    }\n",
              "\n",
              "    [theme=dark] .colab-df-convert:hover {\n",
              "      background-color: #434B5C;\n",
              "      box-shadow: 0px 1px 3px 1px rgba(0, 0, 0, 0.15);\n",
              "      filter: drop-shadow(0px 1px 2px rgba(0, 0, 0, 0.3));\n",
              "      fill: #FFFFFF;\n",
              "    }\n",
              "  </style>\n",
              "\n",
              "    <script>\n",
              "      const buttonEl =\n",
              "        document.querySelector('#df-098ac2ee-7f2b-4642-9a97-27874db8e8ce button.colab-df-convert');\n",
              "      buttonEl.style.display =\n",
              "        google.colab.kernel.accessAllowed ? 'block' : 'none';\n",
              "\n",
              "      async function convertToInteractive(key) {\n",
              "        const element = document.querySelector('#df-098ac2ee-7f2b-4642-9a97-27874db8e8ce');\n",
              "        const dataTable =\n",
              "          await google.colab.kernel.invokeFunction('convertToInteractive',\n",
              "                                                    [key], {});\n",
              "        if (!dataTable) return;\n",
              "\n",
              "        const docLinkHtml = 'Like what you see? Visit the ' +\n",
              "          '<a target=\"_blank\" href=https://colab.research.google.com/notebooks/data_table.ipynb>data table notebook</a>'\n",
              "          + ' to learn more about interactive tables.';\n",
              "        element.innerHTML = '';\n",
              "        dataTable['output_type'] = 'display_data';\n",
              "        await google.colab.output.renderOutput(dataTable, element);\n",
              "        const docLink = document.createElement('div');\n",
              "        docLink.innerHTML = docLinkHtml;\n",
              "        element.appendChild(docLink);\n",
              "      }\n",
              "    </script>\n",
              "  </div>\n",
              "\n",
              "\n",
              "<div id=\"df-49f127ef-a452-4da3-8240-d7a09da78bba\">\n",
              "  <button class=\"colab-df-quickchart\" onclick=\"quickchart('df-49f127ef-a452-4da3-8240-d7a09da78bba')\"\n",
              "            title=\"Suggest charts\"\n",
              "            style=\"display:none;\">\n",
              "\n",
              "<svg xmlns=\"http://www.w3.org/2000/svg\" height=\"24px\"viewBox=\"0 0 24 24\"\n",
              "     width=\"24px\">\n",
              "    <g>\n",
              "        <path d=\"M19 3H5c-1.1 0-2 .9-2 2v14c0 1.1.9 2 2 2h14c1.1 0 2-.9 2-2V5c0-1.1-.9-2-2-2zM9 17H7v-7h2v7zm4 0h-2V7h2v10zm4 0h-2v-4h2v4z\"/>\n",
              "    </g>\n",
              "</svg>\n",
              "  </button>\n",
              "\n",
              "<style>\n",
              "  .colab-df-quickchart {\n",
              "      --bg-color: #E8F0FE;\n",
              "      --fill-color: #1967D2;\n",
              "      --hover-bg-color: #E2EBFA;\n",
              "      --hover-fill-color: #174EA6;\n",
              "      --disabled-fill-color: #AAA;\n",
              "      --disabled-bg-color: #DDD;\n",
              "  }\n",
              "\n",
              "  [theme=dark] .colab-df-quickchart {\n",
              "      --bg-color: #3B4455;\n",
              "      --fill-color: #D2E3FC;\n",
              "      --hover-bg-color: #434B5C;\n",
              "      --hover-fill-color: #FFFFFF;\n",
              "      --disabled-bg-color: #3B4455;\n",
              "      --disabled-fill-color: #666;\n",
              "  }\n",
              "\n",
              "  .colab-df-quickchart {\n",
              "    background-color: var(--bg-color);\n",
              "    border: none;\n",
              "    border-radius: 50%;\n",
              "    cursor: pointer;\n",
              "    display: none;\n",
              "    fill: var(--fill-color);\n",
              "    height: 32px;\n",
              "    padding: 0;\n",
              "    width: 32px;\n",
              "  }\n",
              "\n",
              "  .colab-df-quickchart:hover {\n",
              "    background-color: var(--hover-bg-color);\n",
              "    box-shadow: 0 1px 2px rgba(60, 64, 67, 0.3), 0 1px 3px 1px rgba(60, 64, 67, 0.15);\n",
              "    fill: var(--button-hover-fill-color);\n",
              "  }\n",
              "\n",
              "  .colab-df-quickchart-complete:disabled,\n",
              "  .colab-df-quickchart-complete:disabled:hover {\n",
              "    background-color: var(--disabled-bg-color);\n",
              "    fill: var(--disabled-fill-color);\n",
              "    box-shadow: none;\n",
              "  }\n",
              "\n",
              "  .colab-df-spinner {\n",
              "    border: 2px solid var(--fill-color);\n",
              "    border-color: transparent;\n",
              "    border-bottom-color: var(--fill-color);\n",
              "    animation:\n",
              "      spin 1s steps(1) infinite;\n",
              "  }\n",
              "\n",
              "  @keyframes spin {\n",
              "    0% {\n",
              "      border-color: transparent;\n",
              "      border-bottom-color: var(--fill-color);\n",
              "      border-left-color: var(--fill-color);\n",
              "    }\n",
              "    20% {\n",
              "      border-color: transparent;\n",
              "      border-left-color: var(--fill-color);\n",
              "      border-top-color: var(--fill-color);\n",
              "    }\n",
              "    30% {\n",
              "      border-color: transparent;\n",
              "      border-left-color: var(--fill-color);\n",
              "      border-top-color: var(--fill-color);\n",
              "      border-right-color: var(--fill-color);\n",
              "    }\n",
              "    40% {\n",
              "      border-color: transparent;\n",
              "      border-right-color: var(--fill-color);\n",
              "      border-top-color: var(--fill-color);\n",
              "    }\n",
              "    60% {\n",
              "      border-color: transparent;\n",
              "      border-right-color: var(--fill-color);\n",
              "    }\n",
              "    80% {\n",
              "      border-color: transparent;\n",
              "      border-right-color: var(--fill-color);\n",
              "      border-bottom-color: var(--fill-color);\n",
              "    }\n",
              "    90% {\n",
              "      border-color: transparent;\n",
              "      border-bottom-color: var(--fill-color);\n",
              "    }\n",
              "  }\n",
              "</style>\n",
              "\n",
              "  <script>\n",
              "    async function quickchart(key) {\n",
              "      const quickchartButtonEl =\n",
              "        document.querySelector('#' + key + ' button');\n",
              "      quickchartButtonEl.disabled = true;  // To prevent multiple clicks.\n",
              "      quickchartButtonEl.classList.add('colab-df-spinner');\n",
              "      try {\n",
              "        const charts = await google.colab.kernel.invokeFunction(\n",
              "            'suggestCharts', [key], {});\n",
              "      } catch (error) {\n",
              "        console.error('Error during call to suggestCharts:', error);\n",
              "      }\n",
              "      quickchartButtonEl.classList.remove('colab-df-spinner');\n",
              "      quickchartButtonEl.classList.add('colab-df-quickchart-complete');\n",
              "    }\n",
              "    (() => {\n",
              "      let quickchartButtonEl =\n",
              "        document.querySelector('#df-49f127ef-a452-4da3-8240-d7a09da78bba button');\n",
              "      quickchartButtonEl.style.display =\n",
              "        google.colab.kernel.accessAllowed ? 'block' : 'none';\n",
              "    })();\n",
              "  </script>\n",
              "</div>\n",
              "    </div>\n",
              "  </div>\n"
            ]
          },
          "metadata": {},
          "execution_count": 15
        }
      ]
    },
    {
      "cell_type": "code",
      "source": [
        "raw_data.drop(columns = ['customerID'], inplace = True)"
      ],
      "metadata": {
        "id": "h5nEqRfDYhI_"
      },
      "id": "h5nEqRfDYhI_",
      "execution_count": 16,
      "outputs": []
    },
    {
      "cell_type": "code",
      "execution_count": 17,
      "id": "31be103d",
      "metadata": {
        "id": "31be103d"
      },
      "outputs": [],
      "source": [
        "#Train test Split (train : tes = 80:20)\n",
        "from sklearn.model_selection import train_test_split\n",
        "train, test = train_test_split(raw_data, test_size = 0.2, random_state=42)"
      ]
    },
    {
      "cell_type": "markdown",
      "source": [
        "### <b> Missing Value <b>"
      ],
      "metadata": {
        "id": "J1aoTW5yOtfy"
      },
      "id": "J1aoTW5yOtfy"
    },
    {
      "cell_type": "code",
      "execution_count": 18,
      "id": "0f9d2321",
      "metadata": {
        "id": "0f9d2321",
        "colab": {
          "base_uri": "https://localhost:8080/"
        },
        "outputId": "ffb661e8-6e80-40aa-c8ab-789334c4a9f5"
      },
      "outputs": [
        {
          "output_type": "execute_result",
          "data": {
            "text/plain": [
              "gender               0\n",
              "SeniorCitizen        0\n",
              "Partner              0\n",
              "Dependents           0\n",
              "tenure               0\n",
              "PhoneService         0\n",
              "MultipleLines        0\n",
              "InternetService      0\n",
              "OnlineSecurity       0\n",
              "OnlineBackup         0\n",
              "DeviceProtection     0\n",
              "TechSupport          0\n",
              "StreamingTV          0\n",
              "StreamingMovies      0\n",
              "Contract             0\n",
              "PaperlessBilling     0\n",
              "PaymentMethod        0\n",
              "MonthlyCharges       0\n",
              "TotalCharges        10\n",
              "Churn                0\n",
              "dtype: int64"
            ]
          },
          "metadata": {},
          "execution_count": 18
        }
      ],
      "source": [
        "train.isna().sum()"
      ]
    },
    {
      "cell_type": "code",
      "execution_count": 19,
      "id": "1d394a5d",
      "metadata": {
        "id": "1d394a5d",
        "colab": {
          "base_uri": "https://localhost:8080/"
        },
        "outputId": "ca57c12e-0277-4981-8f53-86cd47eaaef5"
      },
      "outputs": [
        {
          "output_type": "execute_result",
          "data": {
            "text/plain": [
              "gender              0\n",
              "SeniorCitizen       0\n",
              "Partner             0\n",
              "Dependents          0\n",
              "tenure              0\n",
              "PhoneService        0\n",
              "MultipleLines       0\n",
              "InternetService     0\n",
              "OnlineSecurity      0\n",
              "OnlineBackup        0\n",
              "DeviceProtection    0\n",
              "TechSupport         0\n",
              "StreamingTV         0\n",
              "StreamingMovies     0\n",
              "Contract            0\n",
              "PaperlessBilling    0\n",
              "PaymentMethod       0\n",
              "MonthlyCharges      0\n",
              "TotalCharges        1\n",
              "Churn               0\n",
              "dtype: int64"
            ]
          },
          "metadata": {},
          "execution_count": 19
        }
      ],
      "source": [
        "test.isna().sum()"
      ]
    },
    {
      "cell_type": "code",
      "source": [
        "raw_data[raw_data['TotalCharges'].isna()]"
      ],
      "metadata": {
        "colab": {
          "base_uri": "https://localhost:8080/",
          "height": 466
        },
        "id": "-DfYekvzPONn",
        "outputId": "9657eb87-15f4-4ac4-fe47-9481c2b9a455"
      },
      "id": "-DfYekvzPONn",
      "execution_count": 20,
      "outputs": [
        {
          "output_type": "execute_result",
          "data": {
            "text/plain": [
              "      gender  SeniorCitizen  Partner  Dependents  tenure  PhoneService  \\\n",
              "488   Female              0        1           1       0             0   \n",
              "753     Male              0        0           1       0             1   \n",
              "936   Female              0        1           1       0             1   \n",
              "1082    Male              0        1           1       0             1   \n",
              "1340  Female              0        1           1       0             0   \n",
              "3331    Male              0        1           1       0             1   \n",
              "3826    Male              0        1           1       0             1   \n",
              "4380  Female              0        1           1       0             1   \n",
              "5218    Male              0        1           1       0             1   \n",
              "6670  Female              0        1           1       0             1   \n",
              "6754    Male              0        0           1       0             1   \n",
              "\n",
              "      MultipleLines InternetService  OnlineSecurity  OnlineBackup  \\\n",
              "488               0             DSL               1             0   \n",
              "753               0              No               0             0   \n",
              "936               0             DSL               1             1   \n",
              "1082              1              No               0             0   \n",
              "1340              0             DSL               1             1   \n",
              "3331              0              No               0             0   \n",
              "3826              1              No               0             0   \n",
              "4380              0              No               0             0   \n",
              "5218              0              No               0             0   \n",
              "6670              1             DSL               0             1   \n",
              "6754              1             DSL               1             1   \n",
              "\n",
              "      DeviceProtection  TechSupport  StreamingTV  StreamingMovies  Contract  \\\n",
              "488                  1            1            1                0  Two year   \n",
              "753                  0            0            0                0  Two year   \n",
              "936                  1            0            1                1  Two year   \n",
              "1082                 0            0            0                0  Two year   \n",
              "1340                 1            1            1                0  Two year   \n",
              "3331                 0            0            0                0  Two year   \n",
              "3826                 0            0            0                0  Two year   \n",
              "4380                 0            0            0                0  Two year   \n",
              "5218                 0            0            0                0  One year   \n",
              "6670                 1            1            1                0  Two year   \n",
              "6754                 0            1            0                0  Two year   \n",
              "\n",
              "      PaperlessBilling              PaymentMethod  MonthlyCharges  \\\n",
              "488                  1  Bank transfer (automatic)           52.55   \n",
              "753                  0               Mailed check           20.25   \n",
              "936                  0               Mailed check           80.85   \n",
              "1082                 0               Mailed check           25.75   \n",
              "1340                 0    Credit card (automatic)           56.05   \n",
              "3331                 0               Mailed check           19.85   \n",
              "3826                 0               Mailed check           25.35   \n",
              "4380                 0               Mailed check           20.00   \n",
              "5218                 1               Mailed check           19.70   \n",
              "6670                 0               Mailed check           73.35   \n",
              "6754                 1  Bank transfer (automatic)           61.90   \n",
              "\n",
              "      TotalCharges  Churn  \n",
              "488            NaN      0  \n",
              "753            NaN      0  \n",
              "936            NaN      0  \n",
              "1082           NaN      0  \n",
              "1340           NaN      0  \n",
              "3331           NaN      0  \n",
              "3826           NaN      0  \n",
              "4380           NaN      0  \n",
              "5218           NaN      0  \n",
              "6670           NaN      0  \n",
              "6754           NaN      0  "
            ],
            "text/html": [
              "\n",
              "  <div id=\"df-e737b6d9-5a7c-446d-99ca-7ed2e5bacaae\" class=\"colab-df-container\">\n",
              "    <div>\n",
              "<style scoped>\n",
              "    .dataframe tbody tr th:only-of-type {\n",
              "        vertical-align: middle;\n",
              "    }\n",
              "\n",
              "    .dataframe tbody tr th {\n",
              "        vertical-align: top;\n",
              "    }\n",
              "\n",
              "    .dataframe thead th {\n",
              "        text-align: right;\n",
              "    }\n",
              "</style>\n",
              "<table border=\"1\" class=\"dataframe\">\n",
              "  <thead>\n",
              "    <tr style=\"text-align: right;\">\n",
              "      <th></th>\n",
              "      <th>gender</th>\n",
              "      <th>SeniorCitizen</th>\n",
              "      <th>Partner</th>\n",
              "      <th>Dependents</th>\n",
              "      <th>tenure</th>\n",
              "      <th>PhoneService</th>\n",
              "      <th>MultipleLines</th>\n",
              "      <th>InternetService</th>\n",
              "      <th>OnlineSecurity</th>\n",
              "      <th>OnlineBackup</th>\n",
              "      <th>DeviceProtection</th>\n",
              "      <th>TechSupport</th>\n",
              "      <th>StreamingTV</th>\n",
              "      <th>StreamingMovies</th>\n",
              "      <th>Contract</th>\n",
              "      <th>PaperlessBilling</th>\n",
              "      <th>PaymentMethod</th>\n",
              "      <th>MonthlyCharges</th>\n",
              "      <th>TotalCharges</th>\n",
              "      <th>Churn</th>\n",
              "    </tr>\n",
              "  </thead>\n",
              "  <tbody>\n",
              "    <tr>\n",
              "      <th>488</th>\n",
              "      <td>Female</td>\n",
              "      <td>0</td>\n",
              "      <td>1</td>\n",
              "      <td>1</td>\n",
              "      <td>0</td>\n",
              "      <td>0</td>\n",
              "      <td>0</td>\n",
              "      <td>DSL</td>\n",
              "      <td>1</td>\n",
              "      <td>0</td>\n",
              "      <td>1</td>\n",
              "      <td>1</td>\n",
              "      <td>1</td>\n",
              "      <td>0</td>\n",
              "      <td>Two year</td>\n",
              "      <td>1</td>\n",
              "      <td>Bank transfer (automatic)</td>\n",
              "      <td>52.55</td>\n",
              "      <td>NaN</td>\n",
              "      <td>0</td>\n",
              "    </tr>\n",
              "    <tr>\n",
              "      <th>753</th>\n",
              "      <td>Male</td>\n",
              "      <td>0</td>\n",
              "      <td>0</td>\n",
              "      <td>1</td>\n",
              "      <td>0</td>\n",
              "      <td>1</td>\n",
              "      <td>0</td>\n",
              "      <td>No</td>\n",
              "      <td>0</td>\n",
              "      <td>0</td>\n",
              "      <td>0</td>\n",
              "      <td>0</td>\n",
              "      <td>0</td>\n",
              "      <td>0</td>\n",
              "      <td>Two year</td>\n",
              "      <td>0</td>\n",
              "      <td>Mailed check</td>\n",
              "      <td>20.25</td>\n",
              "      <td>NaN</td>\n",
              "      <td>0</td>\n",
              "    </tr>\n",
              "    <tr>\n",
              "      <th>936</th>\n",
              "      <td>Female</td>\n",
              "      <td>0</td>\n",
              "      <td>1</td>\n",
              "      <td>1</td>\n",
              "      <td>0</td>\n",
              "      <td>1</td>\n",
              "      <td>0</td>\n",
              "      <td>DSL</td>\n",
              "      <td>1</td>\n",
              "      <td>1</td>\n",
              "      <td>1</td>\n",
              "      <td>0</td>\n",
              "      <td>1</td>\n",
              "      <td>1</td>\n",
              "      <td>Two year</td>\n",
              "      <td>0</td>\n",
              "      <td>Mailed check</td>\n",
              "      <td>80.85</td>\n",
              "      <td>NaN</td>\n",
              "      <td>0</td>\n",
              "    </tr>\n",
              "    <tr>\n",
              "      <th>1082</th>\n",
              "      <td>Male</td>\n",
              "      <td>0</td>\n",
              "      <td>1</td>\n",
              "      <td>1</td>\n",
              "      <td>0</td>\n",
              "      <td>1</td>\n",
              "      <td>1</td>\n",
              "      <td>No</td>\n",
              "      <td>0</td>\n",
              "      <td>0</td>\n",
              "      <td>0</td>\n",
              "      <td>0</td>\n",
              "      <td>0</td>\n",
              "      <td>0</td>\n",
              "      <td>Two year</td>\n",
              "      <td>0</td>\n",
              "      <td>Mailed check</td>\n",
              "      <td>25.75</td>\n",
              "      <td>NaN</td>\n",
              "      <td>0</td>\n",
              "    </tr>\n",
              "    <tr>\n",
              "      <th>1340</th>\n",
              "      <td>Female</td>\n",
              "      <td>0</td>\n",
              "      <td>1</td>\n",
              "      <td>1</td>\n",
              "      <td>0</td>\n",
              "      <td>0</td>\n",
              "      <td>0</td>\n",
              "      <td>DSL</td>\n",
              "      <td>1</td>\n",
              "      <td>1</td>\n",
              "      <td>1</td>\n",
              "      <td>1</td>\n",
              "      <td>1</td>\n",
              "      <td>0</td>\n",
              "      <td>Two year</td>\n",
              "      <td>0</td>\n",
              "      <td>Credit card (automatic)</td>\n",
              "      <td>56.05</td>\n",
              "      <td>NaN</td>\n",
              "      <td>0</td>\n",
              "    </tr>\n",
              "    <tr>\n",
              "      <th>3331</th>\n",
              "      <td>Male</td>\n",
              "      <td>0</td>\n",
              "      <td>1</td>\n",
              "      <td>1</td>\n",
              "      <td>0</td>\n",
              "      <td>1</td>\n",
              "      <td>0</td>\n",
              "      <td>No</td>\n",
              "      <td>0</td>\n",
              "      <td>0</td>\n",
              "      <td>0</td>\n",
              "      <td>0</td>\n",
              "      <td>0</td>\n",
              "      <td>0</td>\n",
              "      <td>Two year</td>\n",
              "      <td>0</td>\n",
              "      <td>Mailed check</td>\n",
              "      <td>19.85</td>\n",
              "      <td>NaN</td>\n",
              "      <td>0</td>\n",
              "    </tr>\n",
              "    <tr>\n",
              "      <th>3826</th>\n",
              "      <td>Male</td>\n",
              "      <td>0</td>\n",
              "      <td>1</td>\n",
              "      <td>1</td>\n",
              "      <td>0</td>\n",
              "      <td>1</td>\n",
              "      <td>1</td>\n",
              "      <td>No</td>\n",
              "      <td>0</td>\n",
              "      <td>0</td>\n",
              "      <td>0</td>\n",
              "      <td>0</td>\n",
              "      <td>0</td>\n",
              "      <td>0</td>\n",
              "      <td>Two year</td>\n",
              "      <td>0</td>\n",
              "      <td>Mailed check</td>\n",
              "      <td>25.35</td>\n",
              "      <td>NaN</td>\n",
              "      <td>0</td>\n",
              "    </tr>\n",
              "    <tr>\n",
              "      <th>4380</th>\n",
              "      <td>Female</td>\n",
              "      <td>0</td>\n",
              "      <td>1</td>\n",
              "      <td>1</td>\n",
              "      <td>0</td>\n",
              "      <td>1</td>\n",
              "      <td>0</td>\n",
              "      <td>No</td>\n",
              "      <td>0</td>\n",
              "      <td>0</td>\n",
              "      <td>0</td>\n",
              "      <td>0</td>\n",
              "      <td>0</td>\n",
              "      <td>0</td>\n",
              "      <td>Two year</td>\n",
              "      <td>0</td>\n",
              "      <td>Mailed check</td>\n",
              "      <td>20.00</td>\n",
              "      <td>NaN</td>\n",
              "      <td>0</td>\n",
              "    </tr>\n",
              "    <tr>\n",
              "      <th>5218</th>\n",
              "      <td>Male</td>\n",
              "      <td>0</td>\n",
              "      <td>1</td>\n",
              "      <td>1</td>\n",
              "      <td>0</td>\n",
              "      <td>1</td>\n",
              "      <td>0</td>\n",
              "      <td>No</td>\n",
              "      <td>0</td>\n",
              "      <td>0</td>\n",
              "      <td>0</td>\n",
              "      <td>0</td>\n",
              "      <td>0</td>\n",
              "      <td>0</td>\n",
              "      <td>One year</td>\n",
              "      <td>1</td>\n",
              "      <td>Mailed check</td>\n",
              "      <td>19.70</td>\n",
              "      <td>NaN</td>\n",
              "      <td>0</td>\n",
              "    </tr>\n",
              "    <tr>\n",
              "      <th>6670</th>\n",
              "      <td>Female</td>\n",
              "      <td>0</td>\n",
              "      <td>1</td>\n",
              "      <td>1</td>\n",
              "      <td>0</td>\n",
              "      <td>1</td>\n",
              "      <td>1</td>\n",
              "      <td>DSL</td>\n",
              "      <td>0</td>\n",
              "      <td>1</td>\n",
              "      <td>1</td>\n",
              "      <td>1</td>\n",
              "      <td>1</td>\n",
              "      <td>0</td>\n",
              "      <td>Two year</td>\n",
              "      <td>0</td>\n",
              "      <td>Mailed check</td>\n",
              "      <td>73.35</td>\n",
              "      <td>NaN</td>\n",
              "      <td>0</td>\n",
              "    </tr>\n",
              "    <tr>\n",
              "      <th>6754</th>\n",
              "      <td>Male</td>\n",
              "      <td>0</td>\n",
              "      <td>0</td>\n",
              "      <td>1</td>\n",
              "      <td>0</td>\n",
              "      <td>1</td>\n",
              "      <td>1</td>\n",
              "      <td>DSL</td>\n",
              "      <td>1</td>\n",
              "      <td>1</td>\n",
              "      <td>0</td>\n",
              "      <td>1</td>\n",
              "      <td>0</td>\n",
              "      <td>0</td>\n",
              "      <td>Two year</td>\n",
              "      <td>1</td>\n",
              "      <td>Bank transfer (automatic)</td>\n",
              "      <td>61.90</td>\n",
              "      <td>NaN</td>\n",
              "      <td>0</td>\n",
              "    </tr>\n",
              "  </tbody>\n",
              "</table>\n",
              "</div>\n",
              "    <div class=\"colab-df-buttons\">\n",
              "\n",
              "  <div class=\"colab-df-container\">\n",
              "    <button class=\"colab-df-convert\" onclick=\"convertToInteractive('df-e737b6d9-5a7c-446d-99ca-7ed2e5bacaae')\"\n",
              "            title=\"Convert this dataframe to an interactive table.\"\n",
              "            style=\"display:none;\">\n",
              "\n",
              "  <svg xmlns=\"http://www.w3.org/2000/svg\" height=\"24px\" viewBox=\"0 -960 960 960\">\n",
              "    <path d=\"M120-120v-720h720v720H120Zm60-500h600v-160H180v160Zm220 220h160v-160H400v160Zm0 220h160v-160H400v160ZM180-400h160v-160H180v160Zm440 0h160v-160H620v160ZM180-180h160v-160H180v160Zm440 0h160v-160H620v160Z\"/>\n",
              "  </svg>\n",
              "    </button>\n",
              "\n",
              "  <style>\n",
              "    .colab-df-container {\n",
              "      display:flex;\n",
              "      gap: 12px;\n",
              "    }\n",
              "\n",
              "    .colab-df-convert {\n",
              "      background-color: #E8F0FE;\n",
              "      border: none;\n",
              "      border-radius: 50%;\n",
              "      cursor: pointer;\n",
              "      display: none;\n",
              "      fill: #1967D2;\n",
              "      height: 32px;\n",
              "      padding: 0 0 0 0;\n",
              "      width: 32px;\n",
              "    }\n",
              "\n",
              "    .colab-df-convert:hover {\n",
              "      background-color: #E2EBFA;\n",
              "      box-shadow: 0px 1px 2px rgba(60, 64, 67, 0.3), 0px 1px 3px 1px rgba(60, 64, 67, 0.15);\n",
              "      fill: #174EA6;\n",
              "    }\n",
              "\n",
              "    .colab-df-buttons div {\n",
              "      margin-bottom: 4px;\n",
              "    }\n",
              "\n",
              "    [theme=dark] .colab-df-convert {\n",
              "      background-color: #3B4455;\n",
              "      fill: #D2E3FC;\n",
              "    }\n",
              "\n",
              "    [theme=dark] .colab-df-convert:hover {\n",
              "      background-color: #434B5C;\n",
              "      box-shadow: 0px 1px 3px 1px rgba(0, 0, 0, 0.15);\n",
              "      filter: drop-shadow(0px 1px 2px rgba(0, 0, 0, 0.3));\n",
              "      fill: #FFFFFF;\n",
              "    }\n",
              "  </style>\n",
              "\n",
              "    <script>\n",
              "      const buttonEl =\n",
              "        document.querySelector('#df-e737b6d9-5a7c-446d-99ca-7ed2e5bacaae button.colab-df-convert');\n",
              "      buttonEl.style.display =\n",
              "        google.colab.kernel.accessAllowed ? 'block' : 'none';\n",
              "\n",
              "      async function convertToInteractive(key) {\n",
              "        const element = document.querySelector('#df-e737b6d9-5a7c-446d-99ca-7ed2e5bacaae');\n",
              "        const dataTable =\n",
              "          await google.colab.kernel.invokeFunction('convertToInteractive',\n",
              "                                                    [key], {});\n",
              "        if (!dataTable) return;\n",
              "\n",
              "        const docLinkHtml = 'Like what you see? Visit the ' +\n",
              "          '<a target=\"_blank\" href=https://colab.research.google.com/notebooks/data_table.ipynb>data table notebook</a>'\n",
              "          + ' to learn more about interactive tables.';\n",
              "        element.innerHTML = '';\n",
              "        dataTable['output_type'] = 'display_data';\n",
              "        await google.colab.output.renderOutput(dataTable, element);\n",
              "        const docLink = document.createElement('div');\n",
              "        docLink.innerHTML = docLinkHtml;\n",
              "        element.appendChild(docLink);\n",
              "      }\n",
              "    </script>\n",
              "  </div>\n",
              "\n",
              "\n",
              "<div id=\"df-4b5b26cf-f4c6-4d75-99a2-609ad5beaab4\">\n",
              "  <button class=\"colab-df-quickchart\" onclick=\"quickchart('df-4b5b26cf-f4c6-4d75-99a2-609ad5beaab4')\"\n",
              "            title=\"Suggest charts\"\n",
              "            style=\"display:none;\">\n",
              "\n",
              "<svg xmlns=\"http://www.w3.org/2000/svg\" height=\"24px\"viewBox=\"0 0 24 24\"\n",
              "     width=\"24px\">\n",
              "    <g>\n",
              "        <path d=\"M19 3H5c-1.1 0-2 .9-2 2v14c0 1.1.9 2 2 2h14c1.1 0 2-.9 2-2V5c0-1.1-.9-2-2-2zM9 17H7v-7h2v7zm4 0h-2V7h2v10zm4 0h-2v-4h2v4z\"/>\n",
              "    </g>\n",
              "</svg>\n",
              "  </button>\n",
              "\n",
              "<style>\n",
              "  .colab-df-quickchart {\n",
              "      --bg-color: #E8F0FE;\n",
              "      --fill-color: #1967D2;\n",
              "      --hover-bg-color: #E2EBFA;\n",
              "      --hover-fill-color: #174EA6;\n",
              "      --disabled-fill-color: #AAA;\n",
              "      --disabled-bg-color: #DDD;\n",
              "  }\n",
              "\n",
              "  [theme=dark] .colab-df-quickchart {\n",
              "      --bg-color: #3B4455;\n",
              "      --fill-color: #D2E3FC;\n",
              "      --hover-bg-color: #434B5C;\n",
              "      --hover-fill-color: #FFFFFF;\n",
              "      --disabled-bg-color: #3B4455;\n",
              "      --disabled-fill-color: #666;\n",
              "  }\n",
              "\n",
              "  .colab-df-quickchart {\n",
              "    background-color: var(--bg-color);\n",
              "    border: none;\n",
              "    border-radius: 50%;\n",
              "    cursor: pointer;\n",
              "    display: none;\n",
              "    fill: var(--fill-color);\n",
              "    height: 32px;\n",
              "    padding: 0;\n",
              "    width: 32px;\n",
              "  }\n",
              "\n",
              "  .colab-df-quickchart:hover {\n",
              "    background-color: var(--hover-bg-color);\n",
              "    box-shadow: 0 1px 2px rgba(60, 64, 67, 0.3), 0 1px 3px 1px rgba(60, 64, 67, 0.15);\n",
              "    fill: var(--button-hover-fill-color);\n",
              "  }\n",
              "\n",
              "  .colab-df-quickchart-complete:disabled,\n",
              "  .colab-df-quickchart-complete:disabled:hover {\n",
              "    background-color: var(--disabled-bg-color);\n",
              "    fill: var(--disabled-fill-color);\n",
              "    box-shadow: none;\n",
              "  }\n",
              "\n",
              "  .colab-df-spinner {\n",
              "    border: 2px solid var(--fill-color);\n",
              "    border-color: transparent;\n",
              "    border-bottom-color: var(--fill-color);\n",
              "    animation:\n",
              "      spin 1s steps(1) infinite;\n",
              "  }\n",
              "\n",
              "  @keyframes spin {\n",
              "    0% {\n",
              "      border-color: transparent;\n",
              "      border-bottom-color: var(--fill-color);\n",
              "      border-left-color: var(--fill-color);\n",
              "    }\n",
              "    20% {\n",
              "      border-color: transparent;\n",
              "      border-left-color: var(--fill-color);\n",
              "      border-top-color: var(--fill-color);\n",
              "    }\n",
              "    30% {\n",
              "      border-color: transparent;\n",
              "      border-left-color: var(--fill-color);\n",
              "      border-top-color: var(--fill-color);\n",
              "      border-right-color: var(--fill-color);\n",
              "    }\n",
              "    40% {\n",
              "      border-color: transparent;\n",
              "      border-right-color: var(--fill-color);\n",
              "      border-top-color: var(--fill-color);\n",
              "    }\n",
              "    60% {\n",
              "      border-color: transparent;\n",
              "      border-right-color: var(--fill-color);\n",
              "    }\n",
              "    80% {\n",
              "      border-color: transparent;\n",
              "      border-right-color: var(--fill-color);\n",
              "      border-bottom-color: var(--fill-color);\n",
              "    }\n",
              "    90% {\n",
              "      border-color: transparent;\n",
              "      border-bottom-color: var(--fill-color);\n",
              "    }\n",
              "  }\n",
              "</style>\n",
              "\n",
              "  <script>\n",
              "    async function quickchart(key) {\n",
              "      const quickchartButtonEl =\n",
              "        document.querySelector('#' + key + ' button');\n",
              "      quickchartButtonEl.disabled = true;  // To prevent multiple clicks.\n",
              "      quickchartButtonEl.classList.add('colab-df-spinner');\n",
              "      try {\n",
              "        const charts = await google.colab.kernel.invokeFunction(\n",
              "            'suggestCharts', [key], {});\n",
              "      } catch (error) {\n",
              "        console.error('Error during call to suggestCharts:', error);\n",
              "      }\n",
              "      quickchartButtonEl.classList.remove('colab-df-spinner');\n",
              "      quickchartButtonEl.classList.add('colab-df-quickchart-complete');\n",
              "    }\n",
              "    (() => {\n",
              "      let quickchartButtonEl =\n",
              "        document.querySelector('#df-4b5b26cf-f4c6-4d75-99a2-609ad5beaab4 button');\n",
              "      quickchartButtonEl.style.display =\n",
              "        google.colab.kernel.accessAllowed ? 'block' : 'none';\n",
              "    })();\n",
              "  </script>\n",
              "</div>\n",
              "    </div>\n",
              "  </div>\n"
            ]
          },
          "metadata": {},
          "execution_count": 20
        }
      ]
    },
    {
      "cell_type": "code",
      "source": [
        "100 * len(raw_data[raw_data['TotalCharges'].isna()]) / len(raw_data)"
      ],
      "metadata": {
        "colab": {
          "base_uri": "https://localhost:8080/"
        },
        "id": "F7UnugViPPMK",
        "outputId": "6bc37c1b-abbd-4146-da27-2bb8654bc8d3"
      },
      "id": "F7UnugViPPMK",
      "execution_count": 21,
      "outputs": [
        {
          "output_type": "execute_result",
          "data": {
            "text/plain": [
              "0.15618344455487718"
            ]
          },
          "metadata": {},
          "execution_count": 21
        }
      ]
    },
    {
      "cell_type": "code",
      "source": [
        "# Median imputation on TotalCharges column : train\n",
        "median_totalcharges = train[~train['TotalCharges'].isna()]['TotalCharges'].median()\n",
        "median_totalcharges"
      ],
      "metadata": {
        "colab": {
          "base_uri": "https://localhost:8080/"
        },
        "id": "gHDq0MzePT4W",
        "outputId": "6c935415-6d0b-42e2-9740-60829a111916"
      },
      "id": "gHDq0MzePT4W",
      "execution_count": 22,
      "outputs": [
        {
          "output_type": "execute_result",
          "data": {
            "text/plain": [
              "1410.8"
            ]
          },
          "metadata": {},
          "execution_count": 22
        }
      ]
    },
    {
      "cell_type": "code",
      "source": [
        "#implement missing value imputation to train and test, from TotalCharges median value in train data\n",
        "train['TotalCharges'].fillna(median_totalcharges, inplace=True)\n",
        "test['TotalCharges'].fillna(median_totalcharges, inplace=True)"
      ],
      "metadata": {
        "id": "U7FqiXsrPZ6-"
      },
      "id": "U7FqiXsrPZ6-",
      "execution_count": 23,
      "outputs": []
    },
    {
      "cell_type": "code",
      "execution_count": 24,
      "id": "1424e78b",
      "metadata": {
        "id": "1424e78b",
        "colab": {
          "base_uri": "https://localhost:8080/"
        },
        "outputId": "dd45fbc5-6ba6-454c-8df4-bbffe16a6d3a"
      },
      "outputs": [
        {
          "output_type": "execute_result",
          "data": {
            "text/plain": [
              "gender              0\n",
              "SeniorCitizen       0\n",
              "Partner             0\n",
              "Dependents          0\n",
              "tenure              0\n",
              "PhoneService        0\n",
              "MultipleLines       0\n",
              "InternetService     0\n",
              "OnlineSecurity      0\n",
              "OnlineBackup        0\n",
              "DeviceProtection    0\n",
              "TechSupport         0\n",
              "StreamingTV         0\n",
              "StreamingMovies     0\n",
              "Contract            0\n",
              "PaperlessBilling    0\n",
              "PaymentMethod       0\n",
              "MonthlyCharges      0\n",
              "TotalCharges        0\n",
              "Churn               0\n",
              "dtype: int64"
            ]
          },
          "metadata": {},
          "execution_count": 24
        }
      ],
      "source": [
        "train.isna().sum()"
      ]
    },
    {
      "cell_type": "code",
      "source": [
        "test.isna().sum()"
      ],
      "metadata": {
        "colab": {
          "base_uri": "https://localhost:8080/"
        },
        "id": "aXJS8pmDPdwd",
        "outputId": "47b060ad-1e1b-4d0e-9f93-1bb91e4c7b7d"
      },
      "id": "aXJS8pmDPdwd",
      "execution_count": 25,
      "outputs": [
        {
          "output_type": "execute_result",
          "data": {
            "text/plain": [
              "gender              0\n",
              "SeniorCitizen       0\n",
              "Partner             0\n",
              "Dependents          0\n",
              "tenure              0\n",
              "PhoneService        0\n",
              "MultipleLines       0\n",
              "InternetService     0\n",
              "OnlineSecurity      0\n",
              "OnlineBackup        0\n",
              "DeviceProtection    0\n",
              "TechSupport         0\n",
              "StreamingTV         0\n",
              "StreamingMovies     0\n",
              "Contract            0\n",
              "PaperlessBilling    0\n",
              "PaymentMethod       0\n",
              "MonthlyCharges      0\n",
              "TotalCharges        0\n",
              "Churn               0\n",
              "dtype: int64"
            ]
          },
          "metadata": {},
          "execution_count": 25
        }
      ]
    },
    {
      "cell_type": "markdown",
      "source": [
        "### <b> Encoding <b>"
      ],
      "metadata": {
        "id": "kLOguqfkPio8"
      },
      "id": "kLOguqfkPio8"
    },
    {
      "cell_type": "markdown",
      "source": [
        "#### <b> One Hot Encoding (OHE) <b>"
      ],
      "metadata": {
        "id": "-P226wlnPshv"
      },
      "id": "-P226wlnPshv"
    },
    {
      "cell_type": "code",
      "source": [
        "encode_ohe = ['gender'] #buat list nama-nama kolom yang ingin dilakukan OHE\n",
        "train = pd.get_dummies(train, columns=encode_ohe)\n",
        "test = pd.get_dummies(test, columns=encode_ohe)"
      ],
      "metadata": {
        "id": "V9Ga2xfCPkpd"
      },
      "id": "V9Ga2xfCPkpd",
      "execution_count": 26,
      "outputs": []
    },
    {
      "cell_type": "markdown",
      "source": [
        "#### <b> Mean Encoding <b>"
      ],
      "metadata": {
        "id": "t4vUkU4pP3gN"
      },
      "id": "t4vUkU4pP3gN"
    },
    {
      "cell_type": "code",
      "source": [
        "dict_Internet = train.groupby(['InternetService'])['Churn'].mean().to_dict()\n",
        "dict_Contract = train.groupby(['Contract'])['Churn'].mean().to_dict()\n",
        "dict_PaymentMethod = train.groupby(['PaymentMethod'])['Churn'].mean().to_dict()"
      ],
      "metadata": {
        "id": "_wH0RLb0P8Oe"
      },
      "id": "_wH0RLb0P8Oe",
      "execution_count": 27,
      "outputs": []
    },
    {
      "cell_type": "code",
      "source": [
        "train['InternetService'] = train['InternetService'].map(dict_Internet)\n",
        "train['Contract'] = train['Contract'].map(dict_Contract)\n",
        "train['PaymentMethod'] = train['PaymentMethod'].map(dict_PaymentMethod)\n",
        "test['InternetService'] = test['InternetService'].map(dict_Internet)\n",
        "test['Contract'] = test['Contract'].map(dict_Contract)\n",
        "test['PaymentMethod'] = test['PaymentMethod'].map(dict_PaymentMethod)"
      ],
      "metadata": {
        "id": "-woH-Sh3QkWo"
      },
      "id": "-woH-Sh3QkWo",
      "execution_count": 28,
      "outputs": []
    },
    {
      "cell_type": "markdown",
      "source": [
        "## <b> Feature Scalling <b>"
      ],
      "metadata": {
        "id": "6VltDdq_Q7_M"
      },
      "id": "6VltDdq_Q7_M"
    },
    {
      "cell_type": "markdown",
      "source": [
        "### <b> Standard Scaller Method <b>"
      ],
      "metadata": {
        "id": "Q-ogTeZbRDAx"
      },
      "id": "Q-ogTeZbRDAx"
    },
    {
      "cell_type": "code",
      "source": [
        "# Kolom-kolom yang ingin di-standarisasi\n",
        "columns_to_stdscaller = ['tenure', 'MonthlyCharges', 'TotalCharges']\n",
        "\n",
        "# Inisialisasi StandardScaler\n",
        "scaler = StandardScaler()"
      ],
      "metadata": {
        "id": "69TRgRHXRG4r"
      },
      "id": "69TRgRHXRG4r",
      "execution_count": 29,
      "outputs": []
    },
    {
      "cell_type": "code",
      "source": [
        "# Menerapkan standarisasi ke data pelatihan (train)\n",
        "train[['tenure_stds', 'MonthlyCharges_stds', 'TotalCharges_stds']] = scaler.fit_transform(train[columns_to_stdscaller])\n",
        "\n",
        "# Menerapkan standarisasi yang sama ke data uji (test)\n",
        "test[['tenure_stds', 'MonthlyCharges_stds', 'TotalCharges_stds']] = scaler.transform(test[columns_to_stdscaller])"
      ],
      "metadata": {
        "id": "M8bWU5llRuuv"
      },
      "id": "M8bWU5llRuuv",
      "execution_count": 30,
      "outputs": []
    },
    {
      "cell_type": "code",
      "source": [
        "train[['tenure_stds', 'MonthlyCharges_stds', 'TotalCharges_stds']].describe()"
      ],
      "metadata": {
        "colab": {
          "base_uri": "https://localhost:8080/",
          "height": 300
        },
        "id": "-FC-pgGZR_kE",
        "outputId": "851467c3-3495-4616-bd46-7db911955f46"
      },
      "id": "-FC-pgGZR_kE",
      "execution_count": 31,
      "outputs": [
        {
          "output_type": "execute_result",
          "data": {
            "text/plain": [
              "        tenure_stds  MonthlyCharges_stds  TotalCharges_stds\n",
              "count  5.634000e+03         5.634000e+03       5.634000e+03\n",
              "mean   8.355246e-17        -6.129282e-16       1.765637e-17\n",
              "std    1.000089e+00         1.000089e+00       1.000089e+00\n",
              "min   -1.325551e+00        -1.549333e+00      -1.004222e+00\n",
              "25%   -9.570361e-01        -9.676800e-01      -8.302416e-01\n",
              "50%   -1.381148e-01         1.881481e-01      -3.886320e-01\n",
              "75%    9.264829e-01         8.333678e-01       6.708785e-01\n",
              "max    1.622566e+00         1.786033e+00       2.828180e+00"
            ],
            "text/html": [
              "\n",
              "  <div id=\"df-9658db1a-8af3-4f24-97ea-69bf96db19e0\" class=\"colab-df-container\">\n",
              "    <div>\n",
              "<style scoped>\n",
              "    .dataframe tbody tr th:only-of-type {\n",
              "        vertical-align: middle;\n",
              "    }\n",
              "\n",
              "    .dataframe tbody tr th {\n",
              "        vertical-align: top;\n",
              "    }\n",
              "\n",
              "    .dataframe thead th {\n",
              "        text-align: right;\n",
              "    }\n",
              "</style>\n",
              "<table border=\"1\" class=\"dataframe\">\n",
              "  <thead>\n",
              "    <tr style=\"text-align: right;\">\n",
              "      <th></th>\n",
              "      <th>tenure_stds</th>\n",
              "      <th>MonthlyCharges_stds</th>\n",
              "      <th>TotalCharges_stds</th>\n",
              "    </tr>\n",
              "  </thead>\n",
              "  <tbody>\n",
              "    <tr>\n",
              "      <th>count</th>\n",
              "      <td>5.634000e+03</td>\n",
              "      <td>5.634000e+03</td>\n",
              "      <td>5.634000e+03</td>\n",
              "    </tr>\n",
              "    <tr>\n",
              "      <th>mean</th>\n",
              "      <td>8.355246e-17</td>\n",
              "      <td>-6.129282e-16</td>\n",
              "      <td>1.765637e-17</td>\n",
              "    </tr>\n",
              "    <tr>\n",
              "      <th>std</th>\n",
              "      <td>1.000089e+00</td>\n",
              "      <td>1.000089e+00</td>\n",
              "      <td>1.000089e+00</td>\n",
              "    </tr>\n",
              "    <tr>\n",
              "      <th>min</th>\n",
              "      <td>-1.325551e+00</td>\n",
              "      <td>-1.549333e+00</td>\n",
              "      <td>-1.004222e+00</td>\n",
              "    </tr>\n",
              "    <tr>\n",
              "      <th>25%</th>\n",
              "      <td>-9.570361e-01</td>\n",
              "      <td>-9.676800e-01</td>\n",
              "      <td>-8.302416e-01</td>\n",
              "    </tr>\n",
              "    <tr>\n",
              "      <th>50%</th>\n",
              "      <td>-1.381148e-01</td>\n",
              "      <td>1.881481e-01</td>\n",
              "      <td>-3.886320e-01</td>\n",
              "    </tr>\n",
              "    <tr>\n",
              "      <th>75%</th>\n",
              "      <td>9.264829e-01</td>\n",
              "      <td>8.333678e-01</td>\n",
              "      <td>6.708785e-01</td>\n",
              "    </tr>\n",
              "    <tr>\n",
              "      <th>max</th>\n",
              "      <td>1.622566e+00</td>\n",
              "      <td>1.786033e+00</td>\n",
              "      <td>2.828180e+00</td>\n",
              "    </tr>\n",
              "  </tbody>\n",
              "</table>\n",
              "</div>\n",
              "    <div class=\"colab-df-buttons\">\n",
              "\n",
              "  <div class=\"colab-df-container\">\n",
              "    <button class=\"colab-df-convert\" onclick=\"convertToInteractive('df-9658db1a-8af3-4f24-97ea-69bf96db19e0')\"\n",
              "            title=\"Convert this dataframe to an interactive table.\"\n",
              "            style=\"display:none;\">\n",
              "\n",
              "  <svg xmlns=\"http://www.w3.org/2000/svg\" height=\"24px\" viewBox=\"0 -960 960 960\">\n",
              "    <path d=\"M120-120v-720h720v720H120Zm60-500h600v-160H180v160Zm220 220h160v-160H400v160Zm0 220h160v-160H400v160ZM180-400h160v-160H180v160Zm440 0h160v-160H620v160ZM180-180h160v-160H180v160Zm440 0h160v-160H620v160Z\"/>\n",
              "  </svg>\n",
              "    </button>\n",
              "\n",
              "  <style>\n",
              "    .colab-df-container {\n",
              "      display:flex;\n",
              "      gap: 12px;\n",
              "    }\n",
              "\n",
              "    .colab-df-convert {\n",
              "      background-color: #E8F0FE;\n",
              "      border: none;\n",
              "      border-radius: 50%;\n",
              "      cursor: pointer;\n",
              "      display: none;\n",
              "      fill: #1967D2;\n",
              "      height: 32px;\n",
              "      padding: 0 0 0 0;\n",
              "      width: 32px;\n",
              "    }\n",
              "\n",
              "    .colab-df-convert:hover {\n",
              "      background-color: #E2EBFA;\n",
              "      box-shadow: 0px 1px 2px rgba(60, 64, 67, 0.3), 0px 1px 3px 1px rgba(60, 64, 67, 0.15);\n",
              "      fill: #174EA6;\n",
              "    }\n",
              "\n",
              "    .colab-df-buttons div {\n",
              "      margin-bottom: 4px;\n",
              "    }\n",
              "\n",
              "    [theme=dark] .colab-df-convert {\n",
              "      background-color: #3B4455;\n",
              "      fill: #D2E3FC;\n",
              "    }\n",
              "\n",
              "    [theme=dark] .colab-df-convert:hover {\n",
              "      background-color: #434B5C;\n",
              "      box-shadow: 0px 1px 3px 1px rgba(0, 0, 0, 0.15);\n",
              "      filter: drop-shadow(0px 1px 2px rgba(0, 0, 0, 0.3));\n",
              "      fill: #FFFFFF;\n",
              "    }\n",
              "  </style>\n",
              "\n",
              "    <script>\n",
              "      const buttonEl =\n",
              "        document.querySelector('#df-9658db1a-8af3-4f24-97ea-69bf96db19e0 button.colab-df-convert');\n",
              "      buttonEl.style.display =\n",
              "        google.colab.kernel.accessAllowed ? 'block' : 'none';\n",
              "\n",
              "      async function convertToInteractive(key) {\n",
              "        const element = document.querySelector('#df-9658db1a-8af3-4f24-97ea-69bf96db19e0');\n",
              "        const dataTable =\n",
              "          await google.colab.kernel.invokeFunction('convertToInteractive',\n",
              "                                                    [key], {});\n",
              "        if (!dataTable) return;\n",
              "\n",
              "        const docLinkHtml = 'Like what you see? Visit the ' +\n",
              "          '<a target=\"_blank\" href=https://colab.research.google.com/notebooks/data_table.ipynb>data table notebook</a>'\n",
              "          + ' to learn more about interactive tables.';\n",
              "        element.innerHTML = '';\n",
              "        dataTable['output_type'] = 'display_data';\n",
              "        await google.colab.output.renderOutput(dataTable, element);\n",
              "        const docLink = document.createElement('div');\n",
              "        docLink.innerHTML = docLinkHtml;\n",
              "        element.appendChild(docLink);\n",
              "      }\n",
              "    </script>\n",
              "  </div>\n",
              "\n",
              "\n",
              "<div id=\"df-97487e4a-44d7-4f87-bae9-6f703d5637c8\">\n",
              "  <button class=\"colab-df-quickchart\" onclick=\"quickchart('df-97487e4a-44d7-4f87-bae9-6f703d5637c8')\"\n",
              "            title=\"Suggest charts\"\n",
              "            style=\"display:none;\">\n",
              "\n",
              "<svg xmlns=\"http://www.w3.org/2000/svg\" height=\"24px\"viewBox=\"0 0 24 24\"\n",
              "     width=\"24px\">\n",
              "    <g>\n",
              "        <path d=\"M19 3H5c-1.1 0-2 .9-2 2v14c0 1.1.9 2 2 2h14c1.1 0 2-.9 2-2V5c0-1.1-.9-2-2-2zM9 17H7v-7h2v7zm4 0h-2V7h2v10zm4 0h-2v-4h2v4z\"/>\n",
              "    </g>\n",
              "</svg>\n",
              "  </button>\n",
              "\n",
              "<style>\n",
              "  .colab-df-quickchart {\n",
              "      --bg-color: #E8F0FE;\n",
              "      --fill-color: #1967D2;\n",
              "      --hover-bg-color: #E2EBFA;\n",
              "      --hover-fill-color: #174EA6;\n",
              "      --disabled-fill-color: #AAA;\n",
              "      --disabled-bg-color: #DDD;\n",
              "  }\n",
              "\n",
              "  [theme=dark] .colab-df-quickchart {\n",
              "      --bg-color: #3B4455;\n",
              "      --fill-color: #D2E3FC;\n",
              "      --hover-bg-color: #434B5C;\n",
              "      --hover-fill-color: #FFFFFF;\n",
              "      --disabled-bg-color: #3B4455;\n",
              "      --disabled-fill-color: #666;\n",
              "  }\n",
              "\n",
              "  .colab-df-quickchart {\n",
              "    background-color: var(--bg-color);\n",
              "    border: none;\n",
              "    border-radius: 50%;\n",
              "    cursor: pointer;\n",
              "    display: none;\n",
              "    fill: var(--fill-color);\n",
              "    height: 32px;\n",
              "    padding: 0;\n",
              "    width: 32px;\n",
              "  }\n",
              "\n",
              "  .colab-df-quickchart:hover {\n",
              "    background-color: var(--hover-bg-color);\n",
              "    box-shadow: 0 1px 2px rgba(60, 64, 67, 0.3), 0 1px 3px 1px rgba(60, 64, 67, 0.15);\n",
              "    fill: var(--button-hover-fill-color);\n",
              "  }\n",
              "\n",
              "  .colab-df-quickchart-complete:disabled,\n",
              "  .colab-df-quickchart-complete:disabled:hover {\n",
              "    background-color: var(--disabled-bg-color);\n",
              "    fill: var(--disabled-fill-color);\n",
              "    box-shadow: none;\n",
              "  }\n",
              "\n",
              "  .colab-df-spinner {\n",
              "    border: 2px solid var(--fill-color);\n",
              "    border-color: transparent;\n",
              "    border-bottom-color: var(--fill-color);\n",
              "    animation:\n",
              "      spin 1s steps(1) infinite;\n",
              "  }\n",
              "\n",
              "  @keyframes spin {\n",
              "    0% {\n",
              "      border-color: transparent;\n",
              "      border-bottom-color: var(--fill-color);\n",
              "      border-left-color: var(--fill-color);\n",
              "    }\n",
              "    20% {\n",
              "      border-color: transparent;\n",
              "      border-left-color: var(--fill-color);\n",
              "      border-top-color: var(--fill-color);\n",
              "    }\n",
              "    30% {\n",
              "      border-color: transparent;\n",
              "      border-left-color: var(--fill-color);\n",
              "      border-top-color: var(--fill-color);\n",
              "      border-right-color: var(--fill-color);\n",
              "    }\n",
              "    40% {\n",
              "      border-color: transparent;\n",
              "      border-right-color: var(--fill-color);\n",
              "      border-top-color: var(--fill-color);\n",
              "    }\n",
              "    60% {\n",
              "      border-color: transparent;\n",
              "      border-right-color: var(--fill-color);\n",
              "    }\n",
              "    80% {\n",
              "      border-color: transparent;\n",
              "      border-right-color: var(--fill-color);\n",
              "      border-bottom-color: var(--fill-color);\n",
              "    }\n",
              "    90% {\n",
              "      border-color: transparent;\n",
              "      border-bottom-color: var(--fill-color);\n",
              "    }\n",
              "  }\n",
              "</style>\n",
              "\n",
              "  <script>\n",
              "    async function quickchart(key) {\n",
              "      const quickchartButtonEl =\n",
              "        document.querySelector('#' + key + ' button');\n",
              "      quickchartButtonEl.disabled = true;  // To prevent multiple clicks.\n",
              "      quickchartButtonEl.classList.add('colab-df-spinner');\n",
              "      try {\n",
              "        const charts = await google.colab.kernel.invokeFunction(\n",
              "            'suggestCharts', [key], {});\n",
              "      } catch (error) {\n",
              "        console.error('Error during call to suggestCharts:', error);\n",
              "      }\n",
              "      quickchartButtonEl.classList.remove('colab-df-spinner');\n",
              "      quickchartButtonEl.classList.add('colab-df-quickchart-complete');\n",
              "    }\n",
              "    (() => {\n",
              "      let quickchartButtonEl =\n",
              "        document.querySelector('#df-97487e4a-44d7-4f87-bae9-6f703d5637c8 button');\n",
              "      quickchartButtonEl.style.display =\n",
              "        google.colab.kernel.accessAllowed ? 'block' : 'none';\n",
              "    })();\n",
              "  </script>\n",
              "</div>\n",
              "    </div>\n",
              "  </div>\n"
            ]
          },
          "metadata": {},
          "execution_count": 31
        }
      ]
    },
    {
      "cell_type": "markdown",
      "source": [
        "### <b> Plotting kdeplot <b>"
      ],
      "metadata": {
        "id": "m9Syi-RKSxXa"
      },
      "id": "m9Syi-RKSxXa"
    },
    {
      "cell_type": "code",
      "source": [
        "fig, (ax1, ax2) = plt.subplots(ncols=2, figsize=(12, 5))\n",
        "\n",
        "# Plot distribusi sebelum Standar Scaler\n",
        "ax1.set_title('Sebelum Standar Scaller')\n",
        "sns.kdeplot(train['tenure'], ax=ax1, label='tenure')\n",
        "sns.kdeplot(train['MonthlyCharges'], ax=ax1, label='MonthlyCharges')\n",
        "sns.kdeplot(train['TotalCharges'], ax=ax1, label='TotalCharges')\n",
        "\n",
        "# Plot distribusi setelah Standar Scaler\n",
        "ax2.set_title('Setelah Standard Scaller')\n",
        "sns.kdeplot(train['tenure_stds'], ax=ax2, label='tenure_stds')\n",
        "sns.kdeplot(train['MonthlyCharges_stds'], ax=ax2, label='MonthlyCharges_stds')\n",
        "sns.kdeplot(train['TotalCharges_stds'], ax=ax2, label='TotalCharges_stds')\n",
        "\n",
        "# Set x-labels\n",
        "ax1.set_xlabel('Rentang Nilai Sebelum Feature Scalling (Standar Scaller)')\n",
        "ax2.set_xlabel('Rentang Nilai Setelah Feature Scalling (Standar Scaller)')\n",
        "\n",
        "# Menampilkan legenda\n",
        "ax1.legend()\n",
        "ax2.legend()\n",
        "\n",
        "plt.show()"
      ],
      "metadata": {
        "colab": {
          "base_uri": "https://localhost:8080/",
          "height": 487
        },
        "id": "N0XcwbK4SSeC",
        "outputId": "262f445e-65bf-4525-88a4-45490c9dbc88"
      },
      "id": "N0XcwbK4SSeC",
      "execution_count": 32,
      "outputs": [
        {
          "output_type": "display_data",
          "data": {
            "text/plain": [
              "<Figure size 1200x500 with 2 Axes>"
            ],
            "image/png": "[encoded data removed]"
          },
          "metadata": {}
        }
      ]
    },
    {
      "cell_type": "markdown",
      "source": [
        "## <b> Machine Learning Modelling <b>"
      ],
      "metadata": {
        "id": "9bvLT7TOc3QD"
      },
      "id": "9bvLT7TOc3QD"
    },
    {
      "cell_type": "code",
      "execution_count": 33,
      "id": "ef1a7de5",
      "metadata": {
        "id": "ef1a7de5"
      },
      "outputs": [],
      "source": [
        "#split dataset to X_train, y_train, X_test, y_test\n",
        "X_train = train.drop(columns=['Churn'])\n",
        "y_train = train['Churn']\n",
        "X_test = test.drop(columns=['Churn'])\n",
        "y_test = test['Churn']"
      ]
    },
    {
      "cell_type": "code",
      "source": [
        "y_train.value_counts(normalize=True)"
      ],
      "metadata": {
        "colab": {
          "base_uri": "https://localhost:8080/"
        },
        "id": "kpWd2Bl6TgG3",
        "outputId": "1813dbe1-3eee-4251-9e20-3fba99df1014"
      },
      "id": "kpWd2Bl6TgG3",
      "execution_count": 34,
      "outputs": [
        {
          "output_type": "execute_result",
          "data": {
            "text/plain": [
              "0    0.734469\n",
              "1    0.265531\n",
              "Name: Churn, dtype: float64"
            ]
          },
          "metadata": {},
          "execution_count": 34
        }
      ]
    },
    {
      "cell_type": "markdown",
      "source": [
        "### <b> Logistic Regression <b>"
      ],
      "metadata": {
        "id": "CS7aiX51Thph"
      },
      "id": "CS7aiX51Thph"
    },
    {
      "cell_type": "code",
      "execution_count": 56,
      "id": "47a2fe1b",
      "metadata": {
        "id": "47a2fe1b"
      },
      "outputs": [],
      "source": [
        "logistic_model = LogisticRegression(\n",
        "    random_state = 42,\n",
        "    max_iter=1000,\n",
        "    class_weight = {0: 0.265531, 1:0.734469} #class_weight = pembobotan (dibalik agar stabil antara 0 dan 1)\n",
        ")"
      ]
    },
    {
      "cell_type": "code",
      "source": [
        "# Model Fitting\n",
        "logistic_model.fit(X_train, y_train)"
      ],
      "metadata": {
        "colab": {
          "base_uri": "https://localhost:8080/",
          "height": 92
        },
        "id": "reF2Is6HXpDR",
        "outputId": "cc812875-9990-4d5c-90a6-392413da0abf"
      },
      "id": "reF2Is6HXpDR",
      "execution_count": 57,
      "outputs": [
        {
          "output_type": "execute_result",
          "data": {
            "text/plain": [
              "LogisticRegression(class_weight={0: 0.265531, 1: 0.734469}, max_iter=1000,\n",
              "                   random_state=42)"
            ],
            "text/html": [
              "<style>#sk-container-id-5 {color: black;background-color: white;}#sk-container-id-5 pre{padding: 0;}#sk-container-id-5 div.sk-toggleable {background-color: white;}#sk-container-id-5 label.sk-toggleable__label {cursor: pointer;display: block;width: 100%;margin-bottom: 0;padding: 0.3em;box-sizing: border-box;text-align: center;}#sk-container-id-5 label.sk-toggleable__label-arrow:before {content: \"▸\";float: left;margin-right: 0.25em;color: #696969;}#sk-container-id-5 label.sk-toggleable__label-arrow:hover:before {color: black;}#sk-container-id-5 div.sk-estimator:hover label.sk-toggleable__label-arrow:before {color: black;}#sk-container-id-5 div.sk-toggleable__content {max-height: 0;max-width: 0;overflow: hidden;text-align: left;background-color: #f0f8ff;}#sk-container-id-5 div.sk-toggleable__content pre {margin: 0.2em;color: black;border-radius: 0.25em;background-color: #f0f8ff;}#sk-container-id-5 input.sk-toggleable__control:checked~div.sk-toggleable__content {max-height: 200px;max-width: 100%;overflow: auto;}#sk-container-id-5 input.sk-toggleable__control:checked~label.sk-toggleable__label-arrow:before {content: \"▾\";}#sk-container-id-5 div.sk-estimator input.sk-toggleable__control:checked~label.sk-toggleable__label {background-color: #d4ebff;}#sk-container-id-5 div.sk-label input.sk-toggleable__control:checked~label.sk-toggleable__label {background-color: #d4ebff;}#sk-container-id-5 input.sk-hidden--visually {border: 0;clip: rect(1px 1px 1px 1px);clip: rect(1px, 1px, 1px, 1px);height: 1px;margin: -1px;overflow: hidden;padding: 0;position: absolute;width: 1px;}#sk-container-id-5 div.sk-estimator {font-family: monospace;background-color: #f0f8ff;border: 1px dotted black;border-radius: 0.25em;box-sizing: border-box;margin-bottom: 0.5em;}#sk-container-id-5 div.sk-estimator:hover {background-color: #d4ebff;}#sk-container-id-5 div.sk-parallel-item::after {content: \"\";width: 100%;border-bottom: 1px solid gray;flex-grow: 1;}#sk-container-id-5 div.sk-label:hover label.sk-toggleable__label {background-color: #d4ebff;}#sk-container-id-5 div.sk-serial::before {content: \"\";position: absolute;border-left: 1px solid gray;box-sizing: border-box;top: 0;bottom: 0;left: 50%;z-index: 0;}#sk-container-id-5 div.sk-serial {display: flex;flex-direction: column;align-items: center;background-color: white;padding-right: 0.2em;padding-left: 0.2em;position: relative;}#sk-container-id-5 div.sk-item {position: relative;z-index: 1;}#sk-container-id-5 div.sk-parallel {display: flex;align-items: stretch;justify-content: center;background-color: white;position: relative;}#sk-container-id-5 div.sk-item::before, #sk-container-id-5 div.sk-parallel-item::before {content: \"\";position: absolute;border-left: 1px solid gray;box-sizing: border-box;top: 0;bottom: 0;left: 50%;z-index: -1;}#sk-container-id-5 div.sk-parallel-item {display: flex;flex-direction: column;z-index: 1;position: relative;background-color: white;}#sk-container-id-5 div.sk-parallel-item:first-child::after {align-self: flex-end;width: 50%;}#sk-container-id-5 div.sk-parallel-item:last-child::after {align-self: flex-start;width: 50%;}#sk-container-id-5 div.sk-parallel-item:only-child::after {width: 0;}#sk-container-id-5 div.sk-dashed-wrapped {border: 1px dashed gray;margin: 0 0.4em 0.5em 0.4em;box-sizing: border-box;padding-bottom: 0.4em;background-color: white;}#sk-container-id-5 div.sk-label label {font-family: monospace;font-weight: bold;display: inline-block;line-height: 1.2em;}#sk-container-id-5 div.sk-label-container {text-align: center;}#sk-container-id-5 div.sk-container {/* jupyter's `normalize.less` sets `[hidden] { display: none; }` but bootstrap.min.css set `[hidden] { display: none !important; }` so we also need the `!important` here to be able to override the default hidden behavior on the sphinx rendered scikit-learn.org. See: https://github.com/scikit-learn/scikit-learn/issues/21755 */display: inline-block !important;position: relative;}#sk-container-id-5 div.sk-text-repr-fallback {display: none;}</style><div id=\"sk-container-id-5\" class=\"sk-top-container\"><div class=\"sk-text-repr-fallback\"><pre>LogisticRegression(class_weight={0: 0.265531, 1: 0.734469}, max_iter=1000,\n",
              "                   random_state=42)</pre><b>In a Jupyter environment, please rerun this cell to show the HTML representation or trust the notebook. <br />On GitHub, the HTML representation is unable to render, please try loading this page with nbviewer.org.</b></div><div class=\"sk-container\" hidden><div class=\"sk-item\"><div class=\"sk-estimator sk-toggleable\"><input class=\"sk-toggleable__control sk-hidden--visually\" id=\"sk-estimator-id-5\" type=\"checkbox\" checked><label for=\"sk-estimator-id-5\" class=\"sk-toggleable__label sk-toggleable__label-arrow\">LogisticRegression</label><div class=\"sk-toggleable__content\"><pre>LogisticRegression(class_weight={0: 0.265531, 1: 0.734469}, max_iter=1000,\n",
              "                   random_state=42)</pre></div></div></div></div></div>"
            ]
          },
          "metadata": {},
          "execution_count": 57
        }
      ]
    },
    {
      "cell_type": "markdown",
      "source": [
        "### <b> KNN <b>"
      ],
      "metadata": {
        "id": "tmLhFkr7Tsix"
      },
      "id": "tmLhFkr7Tsix"
    },
    {
      "cell_type": "code",
      "execution_count": 58,
      "id": "68fe187e",
      "metadata": {
        "id": "68fe187e"
      },
      "outputs": [],
      "source": [
        "# there is not a class weight in KNN\n",
        "knn_clf = KNeighborsClassifier()"
      ]
    },
    {
      "cell_type": "code",
      "source": [
        "# Model Fitting\n",
        "knn_clf.fit(X_train, y_train)"
      ],
      "metadata": {
        "colab": {
          "base_uri": "https://localhost:8080/",
          "height": 75
        },
        "id": "6CZKllIoZnce",
        "outputId": "5d35e169-6bc3-4673-ae4c-3f13a48a7103"
      },
      "id": "6CZKllIoZnce",
      "execution_count": 59,
      "outputs": [
        {
          "output_type": "execute_result",
          "data": {
            "text/plain": [
              "KNeighborsClassifier()"
            ],
            "text/html": [
              "<style>#sk-container-id-6 {color: black;background-color: white;}#sk-container-id-6 pre{padding: 0;}#sk-container-id-6 div.sk-toggleable {background-color: white;}#sk-container-id-6 label.sk-toggleable__label {cursor: pointer;display: block;width: 100%;margin-bottom: 0;padding: 0.3em;box-sizing: border-box;text-align: center;}#sk-container-id-6 label.sk-toggleable__label-arrow:before {content: \"▸\";float: left;margin-right: 0.25em;color: #696969;}#sk-container-id-6 label.sk-toggleable__label-arrow:hover:before {color: black;}#sk-container-id-6 div.sk-estimator:hover label.sk-toggleable__label-arrow:before {color: black;}#sk-container-id-6 div.sk-toggleable__content {max-height: 0;max-width: 0;overflow: hidden;text-align: left;background-color: #f0f8ff;}#sk-container-id-6 div.sk-toggleable__content pre {margin: 0.2em;color: black;border-radius: 0.25em;background-color: #f0f8ff;}#sk-container-id-6 input.sk-toggleable__control:checked~div.sk-toggleable__content {max-height: 200px;max-width: 100%;overflow: auto;}#sk-container-id-6 input.sk-toggleable__control:checked~label.sk-toggleable__label-arrow:before {content: \"▾\";}#sk-container-id-6 div.sk-estimator input.sk-toggleable__control:checked~label.sk-toggleable__label {background-color: #d4ebff;}#sk-container-id-6 div.sk-label input.sk-toggleable__control:checked~label.sk-toggleable__label {background-color: #d4ebff;}#sk-container-id-6 input.sk-hidden--visually {border: 0;clip: rect(1px 1px 1px 1px);clip: rect(1px, 1px, 1px, 1px);height: 1px;margin: -1px;overflow: hidden;padding: 0;position: absolute;width: 1px;}#sk-container-id-6 div.sk-estimator {font-family: monospace;background-color: #f0f8ff;border: 1px dotted black;border-radius: 0.25em;box-sizing: border-box;margin-bottom: 0.5em;}#sk-container-id-6 div.sk-estimator:hover {background-color: #d4ebff;}#sk-container-id-6 div.sk-parallel-item::after {content: \"\";width: 100%;border-bottom: 1px solid gray;flex-grow: 1;}#sk-container-id-6 div.sk-label:hover label.sk-toggleable__label {background-color: #d4ebff;}#sk-container-id-6 div.sk-serial::before {content: \"\";position: absolute;border-left: 1px solid gray;box-sizing: border-box;top: 0;bottom: 0;left: 50%;z-index: 0;}#sk-container-id-6 div.sk-serial {display: flex;flex-direction: column;align-items: center;background-color: white;padding-right: 0.2em;padding-left: 0.2em;position: relative;}#sk-container-id-6 div.sk-item {position: relative;z-index: 1;}#sk-container-id-6 div.sk-parallel {display: flex;align-items: stretch;justify-content: center;background-color: white;position: relative;}#sk-container-id-6 div.sk-item::before, #sk-container-id-6 div.sk-parallel-item::before {content: \"\";position: absolute;border-left: 1px solid gray;box-sizing: border-box;top: 0;bottom: 0;left: 50%;z-index: -1;}#sk-container-id-6 div.sk-parallel-item {display: flex;flex-direction: column;z-index: 1;position: relative;background-color: white;}#sk-container-id-6 div.sk-parallel-item:first-child::after {align-self: flex-end;width: 50%;}#sk-container-id-6 div.sk-parallel-item:last-child::after {align-self: flex-start;width: 50%;}#sk-container-id-6 div.sk-parallel-item:only-child::after {width: 0;}#sk-container-id-6 div.sk-dashed-wrapped {border: 1px dashed gray;margin: 0 0.4em 0.5em 0.4em;box-sizing: border-box;padding-bottom: 0.4em;background-color: white;}#sk-container-id-6 div.sk-label label {font-family: monospace;font-weight: bold;display: inline-block;line-height: 1.2em;}#sk-container-id-6 div.sk-label-container {text-align: center;}#sk-container-id-6 div.sk-container {/* jupyter's `normalize.less` sets `[hidden] { display: none; }` but bootstrap.min.css set `[hidden] { display: none !important; }` so we also need the `!important` here to be able to override the default hidden behavior on the sphinx rendered scikit-learn.org. See: https://github.com/scikit-learn/scikit-learn/issues/21755 */display: inline-block !important;position: relative;}#sk-container-id-6 div.sk-text-repr-fallback {display: none;}</style><div id=\"sk-container-id-6\" class=\"sk-top-container\"><div class=\"sk-text-repr-fallback\"><pre>KNeighborsClassifier()</pre><b>In a Jupyter environment, please rerun this cell to show the HTML representation or trust the notebook. <br />On GitHub, the HTML representation is unable to render, please try loading this page with nbviewer.org.</b></div><div class=\"sk-container\" hidden><div class=\"sk-item\"><div class=\"sk-estimator sk-toggleable\"><input class=\"sk-toggleable__control sk-hidden--visually\" id=\"sk-estimator-id-6\" type=\"checkbox\" checked><label for=\"sk-estimator-id-6\" class=\"sk-toggleable__label sk-toggleable__label-arrow\">KNeighborsClassifier</label><div class=\"sk-toggleable__content\"><pre>KNeighborsClassifier()</pre></div></div></div></div></div>"
            ]
          },
          "metadata": {},
          "execution_count": 59
        }
      ]
    },
    {
      "cell_type": "markdown",
      "source": [
        "### <b> Decision Tree Classifier <b>"
      ],
      "metadata": {
        "id": "KPAuhsEcT0qr"
      },
      "id": "KPAuhsEcT0qr"
    },
    {
      "cell_type": "code",
      "source": [
        "dt_clf = DecisionTreeClassifier(\n",
        "    random_state = 42,\n",
        "    class_weight = {0: 0.265531, 1:0.734469}\n",
        ")"
      ],
      "metadata": {
        "id": "xb81h2kiT4g7"
      },
      "id": "xb81h2kiT4g7",
      "execution_count": 60,
      "outputs": []
    },
    {
      "cell_type": "code",
      "source": [
        "# Model Fitting\n",
        "dt_clf.fit(X_train, y_train)"
      ],
      "metadata": {
        "colab": {
          "base_uri": "https://localhost:8080/",
          "height": 75
        },
        "id": "QO20Iom7ZthX",
        "outputId": "95deb9d0-767e-48bf-84dd-65e28d1bca0c"
      },
      "id": "QO20Iom7ZthX",
      "execution_count": 61,
      "outputs": [
        {
          "output_type": "execute_result",
          "data": {
            "text/plain": [
              "DecisionTreeClassifier(class_weight={0: 0.265531, 1: 0.734469}, random_state=42)"
            ],
            "text/html": [
              "<style>#sk-container-id-7 {color: black;background-color: white;}#sk-container-id-7 pre{padding: 0;}#sk-container-id-7 div.sk-toggleable {background-color: white;}#sk-container-id-7 label.sk-toggleable__label {cursor: pointer;display: block;width: 100%;margin-bottom: 0;padding: 0.3em;box-sizing: border-box;text-align: center;}#sk-container-id-7 label.sk-toggleable__label-arrow:before {content: \"▸\";float: left;margin-right: 0.25em;color: #696969;}#sk-container-id-7 label.sk-toggleable__label-arrow:hover:before {color: black;}#sk-container-id-7 div.sk-estimator:hover label.sk-toggleable__label-arrow:before {color: black;}#sk-container-id-7 div.sk-toggleable__content {max-height: 0;max-width: 0;overflow: hidden;text-align: left;background-color: #f0f8ff;}#sk-container-id-7 div.sk-toggleable__content pre {margin: 0.2em;color: black;border-radius: 0.25em;background-color: #f0f8ff;}#sk-container-id-7 input.sk-toggleable__control:checked~div.sk-toggleable__content {max-height: 200px;max-width: 100%;overflow: auto;}#sk-container-id-7 input.sk-toggleable__control:checked~label.sk-toggleable__label-arrow:before {content: \"▾\";}#sk-container-id-7 div.sk-estimator input.sk-toggleable__control:checked~label.sk-toggleable__label {background-color: #d4ebff;}#sk-container-id-7 div.sk-label input.sk-toggleable__control:checked~label.sk-toggleable__label {background-color: #d4ebff;}#sk-container-id-7 input.sk-hidden--visually {border: 0;clip: rect(1px 1px 1px 1px);clip: rect(1px, 1px, 1px, 1px);height: 1px;margin: -1px;overflow: hidden;padding: 0;position: absolute;width: 1px;}#sk-container-id-7 div.sk-estimator {font-family: monospace;background-color: #f0f8ff;border: 1px dotted black;border-radius: 0.25em;box-sizing: border-box;margin-bottom: 0.5em;}#sk-container-id-7 div.sk-estimator:hover {background-color: #d4ebff;}#sk-container-id-7 div.sk-parallel-item::after {content: \"\";width: 100%;border-bottom: 1px solid gray;flex-grow: 1;}#sk-container-id-7 div.sk-label:hover label.sk-toggleable__label {background-color: #d4ebff;}#sk-container-id-7 div.sk-serial::before {content: \"\";position: absolute;border-left: 1px solid gray;box-sizing: border-box;top: 0;bottom: 0;left: 50%;z-index: 0;}#sk-container-id-7 div.sk-serial {display: flex;flex-direction: column;align-items: center;background-color: white;padding-right: 0.2em;padding-left: 0.2em;position: relative;}#sk-container-id-7 div.sk-item {position: relative;z-index: 1;}#sk-container-id-7 div.sk-parallel {display: flex;align-items: stretch;justify-content: center;background-color: white;position: relative;}#sk-container-id-7 div.sk-item::before, #sk-container-id-7 div.sk-parallel-item::before {content: \"\";position: absolute;border-left: 1px solid gray;box-sizing: border-box;top: 0;bottom: 0;left: 50%;z-index: -1;}#sk-container-id-7 div.sk-parallel-item {display: flex;flex-direction: column;z-index: 1;position: relative;background-color: white;}#sk-container-id-7 div.sk-parallel-item:first-child::after {align-self: flex-end;width: 50%;}#sk-container-id-7 div.sk-parallel-item:last-child::after {align-self: flex-start;width: 50%;}#sk-container-id-7 div.sk-parallel-item:only-child::after {width: 0;}#sk-container-id-7 div.sk-dashed-wrapped {border: 1px dashed gray;margin: 0 0.4em 0.5em 0.4em;box-sizing: border-box;padding-bottom: 0.4em;background-color: white;}#sk-container-id-7 div.sk-label label {font-family: monospace;font-weight: bold;display: inline-block;line-height: 1.2em;}#sk-container-id-7 div.sk-label-container {text-align: center;}#sk-container-id-7 div.sk-container {/* jupyter's `normalize.less` sets `[hidden] { display: none; }` but bootstrap.min.css set `[hidden] { display: none !important; }` so we also need the `!important` here to be able to override the default hidden behavior on the sphinx rendered scikit-learn.org. See: https://github.com/scikit-learn/scikit-learn/issues/21755 */display: inline-block !important;position: relative;}#sk-container-id-7 div.sk-text-repr-fallback {display: none;}</style><div id=\"sk-container-id-7\" class=\"sk-top-container\"><div class=\"sk-text-repr-fallback\"><pre>DecisionTreeClassifier(class_weight={0: 0.265531, 1: 0.734469}, random_state=42)</pre><b>In a Jupyter environment, please rerun this cell to show the HTML representation or trust the notebook. <br />On GitHub, the HTML representation is unable to render, please try loading this page with nbviewer.org.</b></div><div class=\"sk-container\" hidden><div class=\"sk-item\"><div class=\"sk-estimator sk-toggleable\"><input class=\"sk-toggleable__control sk-hidden--visually\" id=\"sk-estimator-id-7\" type=\"checkbox\" checked><label for=\"sk-estimator-id-7\" class=\"sk-toggleable__label sk-toggleable__label-arrow\">DecisionTreeClassifier</label><div class=\"sk-toggleable__content\"><pre>DecisionTreeClassifier(class_weight={0: 0.265531, 1: 0.734469}, random_state=42)</pre></div></div></div></div></div>"
            ]
          },
          "metadata": {},
          "execution_count": 61
        }
      ]
    },
    {
      "cell_type": "markdown",
      "source": [
        "### <b> Support Vector Machines <b>"
      ],
      "metadata": {
        "id": "ueJzkXQgT68i"
      },
      "id": "ueJzkXQgT68i"
    },
    {
      "cell_type": "code",
      "source": [
        "svm_clf = SVC(\n",
        "    random_state = 42,\n",
        "    probability=True,\n",
        "    class_weight = {0: 0.265531, 1:0.734469}\n",
        ")"
      ],
      "metadata": {
        "id": "ekmvMIyOUC_i"
      },
      "id": "ekmvMIyOUC_i",
      "execution_count": 62,
      "outputs": []
    },
    {
      "cell_type": "code",
      "source": [
        "# Model Fitting\n",
        "svm_clf.fit(X_train, y_train)"
      ],
      "metadata": {
        "colab": {
          "base_uri": "https://localhost:8080/",
          "height": 75
        },
        "id": "BJEn7LNeZvvK",
        "outputId": "44589f50-7cc4-4738-de8f-f4ae0b52dc4e"
      },
      "id": "BJEn7LNeZvvK",
      "execution_count": 63,
      "outputs": [
        {
          "output_type": "execute_result",
          "data": {
            "text/plain": [
              "SVC(class_weight={0: 0.265531, 1: 0.734469}, probability=True, random_state=42)"
            ],
            "text/html": [
              "<style>#sk-container-id-8 {color: black;background-color: white;}#sk-container-id-8 pre{padding: 0;}#sk-container-id-8 div.sk-toggleable {background-color: white;}#sk-container-id-8 label.sk-toggleable__label {cursor: pointer;display: block;width: 100%;margin-bottom: 0;padding: 0.3em;box-sizing: border-box;text-align: center;}#sk-container-id-8 label.sk-toggleable__label-arrow:before {content: \"▸\";float: left;margin-right: 0.25em;color: #696969;}#sk-container-id-8 label.sk-toggleable__label-arrow:hover:before {color: black;}#sk-container-id-8 div.sk-estimator:hover label.sk-toggleable__label-arrow:before {color: black;}#sk-container-id-8 div.sk-toggleable__content {max-height: 0;max-width: 0;overflow: hidden;text-align: left;background-color: #f0f8ff;}#sk-container-id-8 div.sk-toggleable__content pre {margin: 0.2em;color: black;border-radius: 0.25em;background-color: #f0f8ff;}#sk-container-id-8 input.sk-toggleable__control:checked~div.sk-toggleable__content {max-height: 200px;max-width: 100%;overflow: auto;}#sk-container-id-8 input.sk-toggleable__control:checked~label.sk-toggleable__label-arrow:before {content: \"▾\";}#sk-container-id-8 div.sk-estimator input.sk-toggleable__control:checked~label.sk-toggleable__label {background-color: #d4ebff;}#sk-container-id-8 div.sk-label input.sk-toggleable__control:checked~label.sk-toggleable__label {background-color: #d4ebff;}#sk-container-id-8 input.sk-hidden--visually {border: 0;clip: rect(1px 1px 1px 1px);clip: rect(1px, 1px, 1px, 1px);height: 1px;margin: -1px;overflow: hidden;padding: 0;position: absolute;width: 1px;}#sk-container-id-8 div.sk-estimator {font-family: monospace;background-color: #f0f8ff;border: 1px dotted black;border-radius: 0.25em;box-sizing: border-box;margin-bottom: 0.5em;}#sk-container-id-8 div.sk-estimator:hover {background-color: #d4ebff;}#sk-container-id-8 div.sk-parallel-item::after {content: \"\";width: 100%;border-bottom: 1px solid gray;flex-grow: 1;}#sk-container-id-8 div.sk-label:hover label.sk-toggleable__label {background-color: #d4ebff;}#sk-container-id-8 div.sk-serial::before {content: \"\";position: absolute;border-left: 1px solid gray;box-sizing: border-box;top: 0;bottom: 0;left: 50%;z-index: 0;}#sk-container-id-8 div.sk-serial {display: flex;flex-direction: column;align-items: center;background-color: white;padding-right: 0.2em;padding-left: 0.2em;position: relative;}#sk-container-id-8 div.sk-item {position: relative;z-index: 1;}#sk-container-id-8 div.sk-parallel {display: flex;align-items: stretch;justify-content: center;background-color: white;position: relative;}#sk-container-id-8 div.sk-item::before, #sk-container-id-8 div.sk-parallel-item::before {content: \"\";position: absolute;border-left: 1px solid gray;box-sizing: border-box;top: 0;bottom: 0;left: 50%;z-index: -1;}#sk-container-id-8 div.sk-parallel-item {display: flex;flex-direction: column;z-index: 1;position: relative;background-color: white;}#sk-container-id-8 div.sk-parallel-item:first-child::after {align-self: flex-end;width: 50%;}#sk-container-id-8 div.sk-parallel-item:last-child::after {align-self: flex-start;width: 50%;}#sk-container-id-8 div.sk-parallel-item:only-child::after {width: 0;}#sk-container-id-8 div.sk-dashed-wrapped {border: 1px dashed gray;margin: 0 0.4em 0.5em 0.4em;box-sizing: border-box;padding-bottom: 0.4em;background-color: white;}#sk-container-id-8 div.sk-label label {font-family: monospace;font-weight: bold;display: inline-block;line-height: 1.2em;}#sk-container-id-8 div.sk-label-container {text-align: center;}#sk-container-id-8 div.sk-container {/* jupyter's `normalize.less` sets `[hidden] { display: none; }` but bootstrap.min.css set `[hidden] { display: none !important; }` so we also need the `!important` here to be able to override the default hidden behavior on the sphinx rendered scikit-learn.org. See: https://github.com/scikit-learn/scikit-learn/issues/21755 */display: inline-block !important;position: relative;}#sk-container-id-8 div.sk-text-repr-fallback {display: none;}</style><div id=\"sk-container-id-8\" class=\"sk-top-container\"><div class=\"sk-text-repr-fallback\"><pre>SVC(class_weight={0: 0.265531, 1: 0.734469}, probability=True, random_state=42)</pre><b>In a Jupyter environment, please rerun this cell to show the HTML representation or trust the notebook. <br />On GitHub, the HTML representation is unable to render, please try loading this page with nbviewer.org.</b></div><div class=\"sk-container\" hidden><div class=\"sk-item\"><div class=\"sk-estimator sk-toggleable\"><input class=\"sk-toggleable__control sk-hidden--visually\" id=\"sk-estimator-id-8\" type=\"checkbox\" checked><label for=\"sk-estimator-id-8\" class=\"sk-toggleable__label sk-toggleable__label-arrow\">SVC</label><div class=\"sk-toggleable__content\"><pre>SVC(class_weight={0: 0.265531, 1: 0.734469}, probability=True, random_state=42)</pre></div></div></div></div></div>"
            ]
          },
          "metadata": {},
          "execution_count": 63
        }
      ]
    },
    {
      "cell_type": "markdown",
      "source": [
        "## <b> Model Evaluation <b>"
      ],
      "metadata": {
        "id": "ujzfnsVJb9aa"
      },
      "id": "ujzfnsVJb9aa"
    },
    {
      "cell_type": "markdown",
      "source": [
        "* TP : Prediksi Positif (yes churn) dan data y_test nya true (Yes churn) (sesuai prediksi)\n",
        "* TN : Prediksi Negatif (No churn) dan data y_test (actual) nya true (No churn) (sesuai prediksi)\n",
        "* FP : Prediksi Positif (yes churn) tapi data y_test false (negatif) (No churn) (Tidak sesuai prediksi)\n",
        "* FN : Prediksi Negatif (No churn) tapi data y_test false (positif) (Yes churn (Tidak sesuai prediksi)\n",
        "\n",
        "Notes :\n",
        "\n",
        "1. Fokus pada recall (berkaitan dengan FN , karena **FN itu berbanding terbalik dengan recall**)\n",
        "2. Presisi (berkaitan dengan FP karena **FP itu berbanding terbalik dengan presisi**).\n",
        "3. Supaya Recall tinggi maka FN harus kecil,\n",
        "4. Supaya Presisi tinggi maka FP harus kecil."
      ],
      "metadata": {
        "id": "ET9uvxqAcKUQ"
      },
      "id": "ET9uvxqAcKUQ"
    },
    {
      "cell_type": "code",
      "source": [
        "def evaluate(model, x_test = X_test, y_test = y_test, x_train=X_train, y_train=y_train):\n",
        "    y_pred_train = model.predict(x_train)\n",
        "    print('======= Data Train =======')\n",
        "    print('------')\n",
        "    print('Confusion Matrix Data Train:')\n",
        "    print()\n",
        "    print(classification_report(y_train, y_pred_train))\n",
        "    print('------')\n",
        "\n",
        "    tn, fp, fn, tp = confusion_matrix(y_train, y_pred_train).ravel()\n",
        "    print('Assuming 1 as positive, we get for Data Train:')\n",
        "    print('')\n",
        "    print('True Positive:', tp)\n",
        "    print('True Negative:', tn)\n",
        "    print('False Positive:', fp)\n",
        "    print('False Negative:', fn)\n",
        "\n",
        "    print('')\n",
        "\n",
        "    precision = tp/(tp+fp)\n",
        "    recall = tp/(tp+fn)\n",
        "    print('Accuracy Data Train:', accuracy_score(y_train, y_pred_train))\n",
        "    print('Precision Data Train:', precision)\n",
        "    print('Recall Data Train:', recall)\n",
        "    print('F1-Score Data Train:', 2 * (precision * recall)/(precision + recall))\n",
        "    print('ROC-AUC Score Train:', roc_auc_score(y_train, y_pred_train))\n",
        "\n",
        "    y_pred_test = model.predict(x_test)\n",
        "    print('')\n",
        "    print('======= Data Test =======')\n",
        "    print('------')\n",
        "    print('Confusion Matrix:')\n",
        "    print()\n",
        "    print(classification_report(y_test, y_pred_test))\n",
        "    print('------')\n",
        "\n",
        "    tn, fp, fn, tp = confusion_matrix(y_test, y_pred_test).ravel()\n",
        "    print('Assuming 1 as positive, we get:')\n",
        "    print('')\n",
        "    print('True Positive:', tp)\n",
        "    print('True Negative:', tn)\n",
        "    print('False Positive:', fp)\n",
        "    print('False Negative:', fn)\n",
        "\n",
        "    print('')\n",
        "\n",
        "    precision = tp/(tp+fp)\n",
        "    recall = tp/(tp+fn)\n",
        "    print('Accuracy:', accuracy_score(y_test, y_pred_test))\n",
        "    print('Precision Data Test:', precision)\n",
        "    print('Recall Data Test:', recall)\n",
        "    print('F1-Score Data Test:', 2 * (precision * recall)/(precision + recall))\n",
        "    print('ROC-AUC Score Test:', roc_auc_score(y_test, y_pred_test))"
      ],
      "metadata": {
        "id": "q4SEGh7-bcrI"
      },
      "id": "q4SEGh7-bcrI",
      "execution_count": 64,
      "outputs": []
    },
    {
      "cell_type": "code",
      "source": [
        "#logistic regression\n",
        "logreg_pred = logistic_model.predict(X_test)\n",
        "\n",
        "# knn prediction\n",
        "knn_pred = knn_clf.predict(X_test.values)\n",
        "\n",
        "# decision tree prediction\n",
        "dc_pred = dt_clf.predict(X_test)\n",
        "\n",
        "# SVM RBF prediction\n",
        "svm_pred = svm_clf.predict(X_test)"
      ],
      "metadata": {
        "colab": {
          "base_uri": "https://localhost:8080/"
        },
        "id": "SuvCnzeTb3Nu",
        "outputId": "20a742d6-7716-4ef5-d0a4-9e6e61ee607a"
      },
      "id": "SuvCnzeTb3Nu",
      "execution_count": 65,
      "outputs": [
        {
          "output_type": "stream",
          "name": "stderr",
          "text": [
            "/usr/local/lib/python3.10/dist-packages/sklearn/base.py:439: UserWarning: X does not have valid feature names, but KNeighborsClassifier was fitted with feature names\n",
            "  warnings.warn(\n"
          ]
        }
      ]
    },
    {
      "cell_type": "markdown",
      "source": [
        "### <b> Logistic Regression <b>"
      ],
      "metadata": {
        "id": "Xk8_gwMVcrrr"
      },
      "id": "Xk8_gwMVcrrr"
    },
    {
      "cell_type": "code",
      "source": [
        "evaluate(logistic_model, x_test = X_test, y_test = y_test, x_train=X_train, y_train=y_train)"
      ],
      "metadata": {
        "colab": {
          "base_uri": "https://localhost:8080/"
        },
        "id": "CBry07i4ciqy",
        "outputId": "3ec872ce-6b35-455d-f596-2a5405788494"
      },
      "id": "CBry07i4ciqy",
      "execution_count": 66,
      "outputs": [
        {
          "output_type": "stream",
          "name": "stdout",
          "text": [
            "======= Data Train =======\n",
            "------\n",
            "Confusion Matrix Data Train:\n",
            "\n",
            "              precision    recall  f1-score   support\n",
            "\n",
            "           0       0.91      0.74      0.81      4138\n",
            "           1       0.52      0.79      0.63      1496\n",
            "\n",
            "    accuracy                           0.75      5634\n",
            "   macro avg       0.71      0.76      0.72      5634\n",
            "weighted avg       0.80      0.75      0.76      5634\n",
            "\n",
            "------\n",
            "Assuming 1 as positive, we get for Data Train:\n",
            "\n",
            "True Positive: 1177\n",
            "True Negative: 3059\n",
            "False Positive: 1079\n",
            "False Negative: 319\n",
            "\n",
            "Accuracy Data Train: 0.751863684771033\n",
            "Precision Data Train: 0.5217198581560284\n",
            "Recall Data Train: 0.7867647058823529\n",
            "F1-Score Data Train: 0.6273987206823028\n",
            "ROC-AUC Score Train: 0.763005359224405\n",
            "\n",
            "======= Data Test =======\n",
            "------\n",
            "Confusion Matrix:\n",
            "\n",
            "              precision    recall  f1-score   support\n",
            "\n",
            "           0       0.93      0.75      0.83      1036\n",
            "           1       0.55      0.83      0.66       373\n",
            "\n",
            "    accuracy                           0.77      1409\n",
            "   macro avg       0.74      0.79      0.74      1409\n",
            "weighted avg       0.83      0.77      0.78      1409\n",
            "\n",
            "------\n",
            "Assuming 1 as positive, we get:\n",
            "\n",
            "True Positive: 311\n",
            "True Negative: 778\n",
            "False Positive: 258\n",
            "False Negative: 62\n",
            "\n",
            "Accuracy: 0.772888573456352\n",
            "Precision Data Test: 0.546572934973638\n",
            "Recall Data Test: 0.8337801608579088\n",
            "F1-Score Data Test: 0.6602972399150743\n",
            "ROC-AUC Score Test: 0.7923727059115798\n"
          ]
        }
      ]
    },
    {
      "cell_type": "markdown",
      "source": [
        "### <b> KNN <b>"
      ],
      "metadata": {
        "id": "6j_NhoMXdUYs"
      },
      "id": "6j_NhoMXdUYs"
    },
    {
      "cell_type": "code",
      "source": [
        "evaluate(knn_clf, x_test = X_test, y_test = y_test, x_train=X_train, y_train=y_train)"
      ],
      "metadata": {
        "colab": {
          "base_uri": "https://localhost:8080/"
        },
        "id": "4ZoAsnW8dXKW",
        "outputId": "e759395e-9cf1-4ffa-f01f-098dc4b554dd"
      },
      "id": "4ZoAsnW8dXKW",
      "execution_count": 67,
      "outputs": [
        {
          "output_type": "stream",
          "name": "stdout",
          "text": [
            "======= Data Train =======\n",
            "------\n",
            "Confusion Matrix Data Train:\n",
            "\n",
            "              precision    recall  f1-score   support\n",
            "\n",
            "           0       0.85      0.93      0.89      4138\n",
            "           1       0.73      0.56      0.63      1496\n",
            "\n",
            "    accuracy                           0.83      5634\n",
            "   macro avg       0.79      0.74      0.76      5634\n",
            "weighted avg       0.82      0.83      0.82      5634\n",
            "\n",
            "------\n",
            "Assuming 1 as positive, we get for Data Train:\n",
            "\n",
            "True Positive: 833\n",
            "True Negative: 3834\n",
            "False Positive: 304\n",
            "False Negative: 663\n",
            "\n",
            "Accuracy Data Train: 0.8283635072772453\n",
            "Precision Data Train: 0.7326297273526825\n",
            "Recall Data Train: 0.5568181818181818\n",
            "F1-Score Data Train: 0.6327383213064944\n",
            "ROC-AUC Score Train: 0.7416763697877762\n",
            "\n",
            "======= Data Test =======\n",
            "------\n",
            "Confusion Matrix:\n",
            "\n",
            "              precision    recall  f1-score   support\n",
            "\n",
            "           0       0.83      0.89      0.85      1036\n",
            "           1       0.60      0.48      0.54       373\n",
            "\n",
            "    accuracy                           0.78      1409\n",
            "   macro avg       0.71      0.68      0.70      1409\n",
            "weighted avg       0.77      0.78      0.77      1409\n",
            "\n",
            "------\n",
            "Assuming 1 as positive, we get:\n",
            "\n",
            "True Positive: 180\n",
            "True Negative: 917\n",
            "False Positive: 119\n",
            "False Negative: 193\n",
            "\n",
            "Accuracy: 0.7785663591199432\n",
            "Precision Data Test: 0.6020066889632107\n",
            "Recall Data Test: 0.48257372654155495\n",
            "F1-Score Data Test: 0.5357142857142858\n",
            "ROC-AUC Score Test: 0.683854430838345\n"
          ]
        }
      ]
    },
    {
      "cell_type": "markdown",
      "source": [
        "### <b> Decision Tree Classifier"
      ],
      "metadata": {
        "id": "RJfkVc6fdcMH"
      },
      "id": "RJfkVc6fdcMH"
    },
    {
      "cell_type": "code",
      "source": [
        "evaluate(dt_clf, x_test = X_test, y_test = y_test, x_train=X_train, y_train=y_train)"
      ],
      "metadata": {
        "colab": {
          "base_uri": "https://localhost:8080/"
        },
        "id": "FrLmyaUOdivD",
        "outputId": "8b4b9e48-41ba-4028-f348-ddcd1a8d309c"
      },
      "id": "FrLmyaUOdivD",
      "execution_count": 68,
      "outputs": [
        {
          "output_type": "stream",
          "name": "stdout",
          "text": [
            "======= Data Train =======\n",
            "------\n",
            "Confusion Matrix Data Train:\n",
            "\n",
            "              precision    recall  f1-score   support\n",
            "\n",
            "           0       1.00      1.00      1.00      4138\n",
            "           1       0.99      1.00      1.00      1496\n",
            "\n",
            "    accuracy                           1.00      5634\n",
            "   macro avg       1.00      1.00      1.00      5634\n",
            "weighted avg       1.00      1.00      1.00      5634\n",
            "\n",
            "------\n",
            "Assuming 1 as positive, we get for Data Train:\n",
            "\n",
            "True Positive: 1496\n",
            "True Negative: 4129\n",
            "False Positive: 9\n",
            "False Negative: 0\n",
            "\n",
            "Accuracy Data Train: 0.9984025559105432\n",
            "Precision Data Train: 0.9940199335548173\n",
            "Recall Data Train: 1.0\n",
            "F1-Score Data Train: 0.9970009996667778\n",
            "ROC-AUC Score Train: 0.998912518124698\n",
            "\n",
            "======= Data Test =======\n",
            "------\n",
            "Confusion Matrix:\n",
            "\n",
            "              precision    recall  f1-score   support\n",
            "\n",
            "           0       0.81      0.81      0.81      1036\n",
            "           1       0.48      0.49      0.49       373\n",
            "\n",
            "    accuracy                           0.73      1409\n",
            "   macro avg       0.65      0.65      0.65      1409\n",
            "weighted avg       0.73      0.73      0.73      1409\n",
            "\n",
            "------\n",
            "Assuming 1 as positive, we get:\n",
            "\n",
            "True Positive: 182\n",
            "True Negative: 841\n",
            "False Positive: 195\n",
            "False Negative: 191\n",
            "\n",
            "Accuracy: 0.7260468417317246\n",
            "Precision Data Test: 0.4827586206896552\n",
            "Recall Data Test: 0.4879356568364611\n",
            "F1-Score Data Test: 0.4853333333333334\n",
            "ROC-AUC Score Test: 0.6498558593062613\n"
          ]
        }
      ]
    },
    {
      "cell_type": "markdown",
      "source": [
        "### <b> Support Vector Machines <b>"
      ],
      "metadata": {
        "id": "yMD-kcgedlgD"
      },
      "id": "yMD-kcgedlgD"
    },
    {
      "cell_type": "code",
      "source": [
        "evaluate(svm_clf, x_test = X_test, y_test = y_test, x_train=X_train, y_train=y_train)"
      ],
      "metadata": {
        "colab": {
          "base_uri": "https://localhost:8080/"
        },
        "id": "mo-1u2itdotX",
        "outputId": "f9d36f2d-c6c5-41f0-bbb2-e4757ef2b166"
      },
      "id": "mo-1u2itdotX",
      "execution_count": 69,
      "outputs": [
        {
          "output_type": "stream",
          "name": "stdout",
          "text": [
            "======= Data Train =======\n",
            "------\n",
            "Confusion Matrix Data Train:\n",
            "\n",
            "              precision    recall  f1-score   support\n",
            "\n",
            "           0       0.81      0.70      0.75      4138\n",
            "           1       0.40      0.54      0.46      1496\n",
            "\n",
            "    accuracy                           0.66      5634\n",
            "   macro avg       0.60      0.62      0.60      5634\n",
            "weighted avg       0.70      0.66      0.67      5634\n",
            "\n",
            "------\n",
            "Assuming 1 as positive, we get for Data Train:\n",
            "\n",
            "True Positive: 814\n",
            "True Negative: 2896\n",
            "False Positive: 1242\n",
            "False Negative: 682\n",
            "\n",
            "Accuracy Data Train: 0.6585019524316649\n",
            "Precision Data Train: 0.3959143968871595\n",
            "Recall Data Train: 0.5441176470588235\n",
            "F1-Score Data Train: 0.4583333333333333\n",
            "ROC-AUC Score Train: 0.6219863247377249\n",
            "\n",
            "======= Data Test =======\n",
            "------\n",
            "Confusion Matrix:\n",
            "\n",
            "              precision    recall  f1-score   support\n",
            "\n",
            "           0       0.82      0.69      0.75      1036\n",
            "           1       0.40      0.57      0.47       373\n",
            "\n",
            "    accuracy                           0.66      1409\n",
            "   macro avg       0.61      0.63      0.61      1409\n",
            "weighted avg       0.71      0.66      0.68      1409\n",
            "\n",
            "------\n",
            "Assuming 1 as positive, we get:\n",
            "\n",
            "True Positive: 211\n",
            "True Negative: 719\n",
            "False Positive: 317\n",
            "False Negative: 162\n",
            "\n",
            "Accuracy: 0.6600425833924769\n",
            "Precision Data Test: 0.3996212121212121\n",
            "Recall Data Test: 0.5656836461126006\n",
            "F1-Score Data Test: 0.4683684794672587\n",
            "ROC-AUC Score Test: 0.6298495450640224\n"
          ]
        }
      ]
    },
    {
      "cell_type": "markdown",
      "source": [
        "## <b> Learning Curve <b>"
      ],
      "metadata": {
        "id": "hcw3vlVpiSgg"
      },
      "id": "hcw3vlVpiSgg"
    },
    {
      "cell_type": "code",
      "source": [
        "def plot_learning_curve_classification(model, X, y, cv, scoring, title):\n",
        "    train_sizes, train_scores, test_scores = learning_curve(model, X, y, cv=cv, scoring=scoring)\n",
        "    train_scores_mean = np.mean(train_scores, axis=1)\n",
        "    train_scores_std = np.std(train_scores, axis=1)\n",
        "    test_scores_mean = np.mean(test_scores, axis=1)\n",
        "    test_scores_std = np.std(test_scores, axis=1)\n",
        "\n",
        "    plt.figure(figsize=(10, 6))\n",
        "    plt.title(title)\n",
        "    plt.xlabel(\"Number of Training Samples\")\n",
        "    plt.ylabel(scoring)\n",
        "    plt.grid()\n",
        "\n",
        "    plt.fill_between(train_sizes, train_scores_mean - train_scores_std, train_scores_mean + train_scores_std, alpha=0.1, color=\"r\")\n",
        "    plt.fill_between(train_sizes, test_scores_mean - test_scores_std, test_scores_mean + test_scores_std, alpha=0.1, color=\"g\")\n",
        "    plt.plot(train_sizes, train_scores_mean, 'o-', color=\"r\", label=\"Training \" + scoring)\n",
        "    plt.plot(train_sizes, test_scores_mean, 'o-', color=\"g\", label=\"Testing \" + scoring)\n",
        "\n",
        "    plt.legend(loc=\"best\")\n",
        "    plt.show()"
      ],
      "metadata": {
        "id": "0InoEhg14oJj"
      },
      "id": "0InoEhg14oJj",
      "execution_count": 70,
      "outputs": []
    },
    {
      "cell_type": "code",
      "source": [
        "X = pd.concat([X_train, X_test],axis = 0)\n",
        "y = pd.concat([y_train, y_test],axis = 0)"
      ],
      "metadata": {
        "id": "K9B3HjtP5Goi"
      },
      "id": "K9B3HjtP5Goi",
      "execution_count": 71,
      "outputs": []
    },
    {
      "cell_type": "code",
      "source": [
        "plot_learning_curve_classification(logistic_model, X, y, cv=5, scoring='roc_auc', title=\"Logistic Regression Learning Curve Baseline Model\")"
      ],
      "metadata": {
        "colab": {
          "base_uri": "https://localhost:8080/",
          "height": 564
        },
        "id": "EoSkzZ3H4rQF",
        "outputId": "616e1f9d-ef74-4632-cb8c-5adf9fe2a714"
      },
      "id": "EoSkzZ3H4rQF",
      "execution_count": 80,
      "outputs": [
        {
          "output_type": "display_data",
          "data": {
            "text/plain": [
              "<Figure size 1000x600 with 1 Axes>"
            ],
            "image/png": "[encoded data removed]"
          },
          "metadata": {}
        }
      ]
    },
    {
      "cell_type": "markdown",
      "source": [
        "- The model shows good performance on both the training and testing datasets.\n",
        "- The accuracy is decent, indicating a good overall classification performance.\n",
        "- Precision, recall, F1-Score, and ROC-AUC scores provide additional insights into the model's ability to correctly classify positive instances and avoid misclassification.\n",
        "- More samples will make the model optimal"
      ],
      "metadata": {
        "id": "-zM8Sx0Q_7Ur"
      },
      "id": "-zM8Sx0Q_7Ur"
    },
    {
      "cell_type": "code",
      "source": [
        "plot_learning_curve_classification(knn_clf, X, y, cv=5, scoring='roc_auc', title=\"KNN Learning Curve Baseline Model\")"
      ],
      "metadata": {
        "colab": {
          "base_uri": "https://localhost:8080/",
          "height": 564
        },
        "id": "c6hspb6z8AYW",
        "outputId": "0c2a66c0-1f04-47a0-d935-e816ccedc3fa"
      },
      "id": "c6hspb6z8AYW",
      "execution_count": 75,
      "outputs": [
        {
          "output_type": "display_data",
          "data": {
            "text/plain": [
              "<Figure size 1000x600 with 1 Axes>"
            ],
            "image/png": "[encoded data removed]"
          },
          "metadata": {}
        }
      ]
    },
    {
      "cell_type": "markdown",
      "source": [
        "- The KNN model shows good performance on the training set, achieving high accuracy.\n",
        "- Precision, recall, F1-Score, and ROC-AUC scores provide additional insights into the model's ability to correctly classify positive instances and avoid misclassification.\n",
        "- This condition might be called underfitting because along with the sample increase, the roc_auc for both training and testing shows no improvement (the differences stays the same 0.15)"
      ],
      "metadata": {
        "id": "JmK5Pn6nAedN"
      },
      "id": "JmK5Pn6nAedN"
    },
    {
      "cell_type": "code",
      "source": [
        "plot_learning_curve_classification(dt_clf, X, y, cv=5, scoring='roc_auc', title=\"Decision Tree Learning Curve Baseline Model\")"
      ],
      "metadata": {
        "colab": {
          "base_uri": "https://localhost:8080/",
          "height": 564
        },
        "id": "_OaU-P_v8ONi",
        "outputId": "a5a3efad-2b57-4ada-fa16-867db46e6743"
      },
      "id": "_OaU-P_v8ONi",
      "execution_count": 76,
      "outputs": [
        {
          "output_type": "display_data",
          "data": {
            "text/plain": [
              "<Figure size 1000x600 with 1 Axes>"
            ],
            "image/png": "[encoded data removed]"
          },
          "metadata": {}
        }
      ]
    },
    {
      "cell_type": "markdown",
      "source": [
        "- The Decision Tree model shows exceptional performance on the training set, achieving high accuracy and perfect recall.\n",
        "- On the testing set, the model maintains good accuracy, but there is a trade-off between precision and recall, as evidenced by the F1-Score.\n",
        "- The ROC-AUC score provides insights into the model's discrimination ability, with a value of 0.6499 on the test set.\n",
        "- This condition is similar to KNN which more likely underfitting."
      ],
      "metadata": {
        "id": "KwtUANxdBFXf"
      },
      "id": "KwtUANxdBFXf"
    },
    {
      "cell_type": "code",
      "source": [
        "plot_learning_curve_classification(svm_clf, X, y, cv=5, scoring='roc_auc', title=\"Support Vector Machines Learning Curve Baseline Model\")"
      ],
      "metadata": {
        "colab": {
          "base_uri": "https://localhost:8080/",
          "height": 564
        },
        "id": "tH8COdZT8Vkq",
        "outputId": "553a4825-9574-4b79-df0e-af6b1f7fd1ca"
      },
      "id": "tH8COdZT8Vkq",
      "execution_count": 81,
      "outputs": [
        {
          "output_type": "display_data",
          "data": {
            "text/plain": [
              "<Figure size 1000x600 with 1 Axes>"
            ],
            "image/png": "[encoded data removed]"
          },
          "metadata": {}
        }
      ]
    },
    {
      "cell_type": "markdown",
      "source": [
        "- The SVM model achieves moderate accuracy on both training and testing sets.\n",
        "- Precision is relatively low, suggesting that the model may label some negative instances as positive.\n",
        "- Recall is moderate, indicating the model's ability to capture relevant positive instances.\n",
        "- The F1-Score balances precision and recall, providing a comprehensive measure of the model's performance.\n",
        "- The ROC-AUC score indicates fair discrimination ability, with a value of 0.6298 on the test set.\n",
        "- This model has improvement for roc_auc along with the sample increases and become optimal."
      ],
      "metadata": {
        "id": "gib7yyxkBwxN"
      },
      "id": "gib7yyxkBwxN"
    },
    {
      "cell_type": "markdown",
      "source": [
        "## <b> Model Conclusion <b>"
      ],
      "metadata": {
        "id": "9EjjK2hqCd83"
      },
      "id": "9EjjK2hqCd83"
    },
    {
      "cell_type": "markdown",
      "source": [
        "I picked logistic regression because it works well and gets better as we have more data. The model's performance is good, especially when we have larger datasets. It has a crucial score, ROC-AUC, which is higher than 75%, showing that it's good at telling apart different cases. This metric proves the model's ability to distinguish between positive and negative outcomes. I chose logistic regression because it's reliable, efficient, and consistently performs well with different amounts of data. The model maintains a high ROC-AUC score, making it a solid choice for making predictions."
      ],
      "metadata": {
        "id": "keqCiqrdCltp"
      },
      "id": "keqCiqrdCltp"
    },
    {
      "cell_type": "markdown",
      "source": [
        "## <b> Cumulative Gain Plot <b>"
      ],
      "metadata": {
        "id": "hjDWXVl5HZPD"
      },
      "id": "hjDWXVl5HZPD"
    },
    {
      "cell_type": "code",
      "execution_count": 82,
      "id": "f1805f45",
      "metadata": {
        "id": "f1805f45",
        "colab": {
          "base_uri": "https://localhost:8080/",
          "height": 819
        },
        "outputId": "07360764-e41b-4422-9c62-f6ca6d2e2200"
      },
      "outputs": [
        {
          "output_type": "stream",
          "name": "stdout",
          "text": [
            "Collecting scikit-plot\n",
            "  Downloading scikit_plot-0.3.7-py3-none-any.whl (33 kB)\n",
            "Requirement already satisfied: matplotlib>=1.4.0 in /usr/local/lib/python3.10/dist-packages (from scikit-plot) (3.7.1)\n",
            "Requirement already satisfied: scikit-learn>=0.18 in /usr/local/lib/python3.10/dist-packages (from scikit-plot) (1.2.2)\n",
            "Requirement already satisfied: scipy>=0.9 in /usr/local/lib/python3.10/dist-packages (from scikit-plot) (1.11.3)\n",
            "Requirement already satisfied: joblib>=0.10 in /usr/local/lib/python3.10/dist-packages (from scikit-plot) (1.3.2)\n",
            "Requirement already satisfied: contourpy>=1.0.1 in /usr/local/lib/python3.10/dist-packages (from matplotlib>=1.4.0->scikit-plot) (1.2.0)\n",
            "Requirement already satisfied: cycler>=0.10 in /usr/local/lib/python3.10/dist-packages (from matplotlib>=1.4.0->scikit-plot) (0.12.1)\n",
            "Requirement already satisfied: fonttools>=4.22.0 in /usr/local/lib/python3.10/dist-packages (from matplotlib>=1.4.0->scikit-plot) (4.44.0)\n",
            "Requirement already satisfied: kiwisolver>=1.0.1 in /usr/local/lib/python3.10/dist-packages (from matplotlib>=1.4.0->scikit-plot) (1.4.5)\n",
            "Requirement already satisfied: numpy>=1.20 in /usr/local/lib/python3.10/dist-packages (from matplotlib>=1.4.0->scikit-plot) (1.23.5)\n",
            "Requirement already satisfied: packaging>=20.0 in /usr/local/lib/python3.10/dist-packages (from matplotlib>=1.4.0->scikit-plot) (23.2)\n",
            "Requirement already satisfied: pillow>=6.2.0 in /usr/local/lib/python3.10/dist-packages (from matplotlib>=1.4.0->scikit-plot) (9.4.0)\n",
            "Requirement already satisfied: pyparsing>=2.3.1 in /usr/local/lib/python3.10/dist-packages (from matplotlib>=1.4.0->scikit-plot) (3.1.1)\n",
            "Requirement already satisfied: python-dateutil>=2.7 in /usr/local/lib/python3.10/dist-packages (from matplotlib>=1.4.0->scikit-plot) (2.8.2)\n",
            "Requirement already satisfied: threadpoolctl>=2.0.0 in /usr/local/lib/python3.10/dist-packages (from scikit-learn>=0.18->scikit-plot) (3.2.0)\n",
            "Requirement already satisfied: six>=1.5 in /usr/local/lib/python3.10/dist-packages (from python-dateutil>=2.7->matplotlib>=1.4.0->scikit-plot) (1.16.0)\n",
            "Installing collected packages: scikit-plot\n",
            "Successfully installed scikit-plot-0.3.7\n"
          ]
        },
        {
          "output_type": "execute_result",
          "data": {
            "text/plain": [
              "<Axes: title={'center': 'Cumulative Gains Curve'}, xlabel='Percentage of sample', ylabel='Gain'>"
            ]
          },
          "metadata": {},
          "execution_count": 82
        },
        {
          "output_type": "display_data",
          "data": {
            "text/plain": [
              "<Figure size 640x480 with 1 Axes>"
            ],
            "image/png": "[encoded data removed]"
          },
          "metadata": {}
        }
      ],
      "source": [
        "# load scikitplot untuk visualisasi metrik\n",
        "### logistic_regression -> diambil yang paling best model\n",
        "!pip install scikit-plot\n",
        "import scikitplot as skplt\n",
        "skplt.metrics.plot_cumulative_gain(y_test, logistic_model.predict_proba(X_test))"
      ]
    },
    {
      "cell_type": "code",
      "source": [
        "from sklearn.metrics import confusion_matrix\n",
        "def value_prediction(y_actual, y_prediction):\n",
        "    tn, fp, fn, tp = confusion_matrix(y_actual, y_prediction).ravel()\n",
        "    print('TN :',tn)\n",
        "    print('TP :',tp)\n",
        "    print('FN :',fn)\n",
        "    print('FP :',fp)"
      ],
      "metadata": {
        "id": "N28dnecPD9Y-"
      },
      "id": "N28dnecPD9Y-",
      "execution_count": 83,
      "outputs": []
    },
    {
      "cell_type": "code",
      "source": [
        "value_prediction(y_test, logistic_model.predict(X_test))"
      ],
      "metadata": {
        "colab": {
          "base_uri": "https://localhost:8080/"
        },
        "id": "9andQvdFEGS9",
        "outputId": "a4376201-0fea-4336-ecf3-e7f39570c5ae"
      },
      "id": "9andQvdFEGS9",
      "execution_count": 84,
      "outputs": [
        {
          "output_type": "stream",
          "name": "stdout",
          "text": [
            "TN : 778\n",
            "TP : 311\n",
            "FN : 62\n",
            "FP : 258\n"
          ]
        }
      ]
    },
    {
      "cell_type": "code",
      "source": [
        "y_test.value_counts()"
      ],
      "metadata": {
        "colab": {
          "base_uri": "https://localhost:8080/"
        },
        "id": "WEEwN5a-ELgw",
        "outputId": "39ccc2c0-620b-439c-eccd-63510c156163"
      },
      "id": "WEEwN5a-ELgw",
      "execution_count": 85,
      "outputs": [
        {
          "output_type": "execute_result",
          "data": {
            "text/plain": [
              "0    1036\n",
              "1     373\n",
              "Name: Churn, dtype: int64"
            ]
          },
          "metadata": {},
          "execution_count": 85
        }
      ]
    },
    {
      "cell_type": "code",
      "source": [
        "y_pred = pd.DataFrame(logistic_model.predict(X_test))\n",
        "y_pred.value_counts()"
      ],
      "metadata": {
        "colab": {
          "base_uri": "https://localhost:8080/"
        },
        "id": "ihIMRcIXENqB",
        "outputId": "59b4d281-1005-4bcf-879c-c3829b5fcb82"
      },
      "id": "ihIMRcIXENqB",
      "execution_count": 86,
      "outputs": [
        {
          "output_type": "execute_result",
          "data": {
            "text/plain": [
              "0    840\n",
              "1    569\n",
              "dtype: int64"
            ]
          },
          "metadata": {},
          "execution_count": 86
        }
      ]
    },
    {
      "cell_type": "markdown",
      "source": [
        "Populasi kelas 1 dari Pred = 569 orang\n",
        "\n",
        "% sampling = 40% dari populasi = 227.6 ~ 228 orang\n",
        "\n",
        "Performa dengan model = 82%\n",
        "\n",
        "Performa tanpa model (random choice / baseline) = 40%\n",
        "\n",
        "Biaya promosi / orang = Rp. 300.000\n",
        "\n",
        "Margin rate = 20%\n",
        "\n",
        "____\n",
        "\n",
        "![image.png](data:image/png;base64,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)\n"
      ],
      "metadata": {
        "id": "e1j_zKihFst9"
      },
      "id": "e1j_zKihFst9"
    }
  ],
  "metadata": {
    "kernelspec": {
      "display_name": "Python 3 (ipykernel)",
      "language": "python",
      "name": "python3"
    },
    "language_info": {
      "codemirror_mode": {
        "name": "ipython",
        "version": 3
      },
      "file_extension": ".py",
      "mimetype": "text/x-python",
      "name": "python",
      "nbconvert_exporter": "python",
      "pygments_lexer": "ipython3",
      "version": "3.11.4"
    },
    "colab": {
      "provenance": [],
      "toc_visible": true
    }
  },
  "nbformat": 4,
  "nbformat_minor": 5
}